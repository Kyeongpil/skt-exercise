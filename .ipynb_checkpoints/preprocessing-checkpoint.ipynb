{
 "cells": [
  {
   "cell_type": "code",
   "execution_count": 1,
   "metadata": {
    "ExecuteTime": {
     "end_time": "2018-05-24T10:21:28.721520Z",
     "start_time": "2018-05-24T10:21:27.441871Z"
    }
   },
   "outputs": [],
   "source": [
    "from konlpy.tag import Twitter\n",
    "from sklearn.preprocessing import normalize\n",
    "from scipy.sparse import dok_matrix\n",
    "from collections import Counter\n",
    "from random import shuffle\n",
    "import json\n",
    "import pickle\n",
    "\n",
    "twitter = Twitter()"
   ]
  },
  {
   "cell_type": "code",
   "execution_count": 2,
   "metadata": {
    "ExecuteTime": {
     "end_time": "2018-05-24T10:21:34.602996Z",
     "start_time": "2018-05-24T10:21:28.732016Z"
    }
   },
   "outputs": [],
   "source": [
    "with open(\"data/2017_03.json\") as f:\n",
    "    data = json.load(f)\n",
    "\n",
    "shuffle(data)\n",
    "data = data[:10000]"
   ]
  },
  {
   "cell_type": "code",
   "execution_count": 3,
   "metadata": {
    "ExecuteTime": {
     "end_time": "2018-05-24T10:21:35.201959Z",
     "start_time": "2018-05-24T10:21:35.035613Z"
    }
   },
   "outputs": [],
   "source": [
    "titles = set()\n",
    "articleList = []\n",
    "articleNum = 0\n",
    "\n",
    "for article in data:\n",
    "    if article['title'] not in titles:\n",
    "        # 기사 중복되지 않는 것들만 처리\n",
    "        titles.add(article['title'])\n",
    "        articleList.append(article['text'])\n",
    "        articleNum += 1\n",
    "\n",
    "del data"
   ]
  },
  {
   "cell_type": "code",
   "execution_count": null,
   "metadata": {
    "ExecuteTime": {
     "start_time": "2018-05-24T10:21:24.941Z"
    }
   },
   "outputs": [
    {
     "name": "stdout",
     "output_type": "stream",
     "text": [
      "0\n",
      "1000\n",
      "2000\n",
      "3000\n",
      "4000\n",
      "5000\n",
      "6000\n",
      "7000\n"
     ]
    }
   ],
   "source": [
    "tags = set(['Noun', 'Verb', 'Adjective'])\n",
    "spamWords = set([\n",
    "    '하다', '되다', '이다', '전재', '배포', '무단', '기사', '금지', '사진', '보기', '뉴스', '있다',\n",
    "    '돼다', '앵커', '위해', '라며', '그렇다', '보다', '되어다', '기자', '하는', '이런', '그런', '하는'\n",
    "])\n",
    "\n",
    "word_count = Counter()\n",
    "\n",
    "for i, article in enumerate(articleList):\n",
    "    if i % 1000 == 0:\n",
    "        print(i)\n",
    "\n",
    "    words = []\n",
    "    pos = twitter.pos(article, norm=True, stem=True)\n",
    "    word_count.update([word for word, tag in pos if tag in tags and len(word) >1 and word not in spamWords])"
   ]
  },
  {
   "cell_type": "code",
   "execution_count": null,
   "metadata": {
    "ExecuteTime": {
     "start_time": "2018-05-24T10:21:25.075Z"
    }
   },
   "outputs": [],
   "source": [
    "wordsList = []\n",
    "raw_text = []\n",
    "index2voca = set()\n",
    "for i, article in enumerate(articleList):\n",
    "    if i % 1000 == 0:\n",
    "        print(i)\n",
    "\n",
    "    words = []\n",
    "    pos = twitter.pos(article, norm=True, stem=True)\n",
    "    words = [word for word, tag in pos if word_count[word] >= 10]\n",
    "    if len(words) >= 10:\n",
    "        index2voca.update(word)\n",
    "        wordsList.append(words)\n",
    "        raw_text.append(article)\n",
    "\n",
    "index2voca = list(index2voca)\n",
    "voca2index = {w: i for i, w in enumerate(index2voca)}\n",
    "\n",
    "print(len(index2voca))\n",
    "print(len(wordsList))"
   ]
  },
  {
   "cell_type": "code",
   "execution_count": null,
   "metadata": {
    "ExecuteTime": {
     "start_time": "2018-05-24T10:21:25.452Z"
    }
   },
   "outputs": [],
   "source": [
    "voca2index['서울']"
   ]
  },
  {
   "cell_type": "code",
   "execution_count": null,
   "metadata": {
    "ExecuteTime": {
     "start_time": "2018-05-24T10:21:25.882Z"
    }
   },
   "outputs": [],
   "source": [
    "# term-document matrix를 sparse matrix로 생성\n",
    "tdm = dok_matrix((len(wordsList), len(index2voca)), dtype=np.float32)\n",
    "print(tdm.shape)\n",
    "\n",
    "for i, words in enumerate(wordsList):\n",
    "    for word in words:\n",
    "        tdm[i, voca2index[word]] += 1\n",
    "\n",
    "tdm = tdm.tocsr()\n",
    "# 각 document별로 l2-normalize\n",
    "tdm = normalize(tdm)"
   ]
  },
  {
   "cell_type": "code",
   "execution_count": null,
   "metadata": {
    "ExecuteTime": {
     "start_time": "2018-05-24T10:21:26.306Z"
    }
   },
   "outputs": [],
   "source": [
    "with open(\"data/preprocessed_data.pkl\", 'wb') as f:\n",
    "    pickle.dump({'index2voca': index2voca, 'voca2index': voca2index, 'wordsList': wordsList, 'tdm': tdm, 'raw_text': raw_text})"
   ]
  },
  {
   "cell_type": "code",
   "execution_count": null,
   "metadata": {},
   "outputs": [],
   "source": []
  }
 ],
 "metadata": {
  "kernelspec": {
   "display_name": "Python 3",
   "language": "python",
   "name": "python3"
  },
  "language_info": {
   "codemirror_mode": {
    "name": "ipython",
    "version": 3
   },
   "file_extension": ".py",
   "mimetype": "text/x-python",
   "name": "python",
   "nbconvert_exporter": "python",
   "pygments_lexer": "ipython3",
   "version": "3.6.5"
  },
  "varInspector": {
   "cols": {
    "lenName": 16,
    "lenType": 16,
    "lenVar": 40
   },
   "kernels_config": {
    "python": {
     "delete_cmd_postfix": "",
     "delete_cmd_prefix": "del ",
     "library": "var_list.py",
     "varRefreshCmd": "print(var_dic_list())"
    },
    "r": {
     "delete_cmd_postfix": ") ",
     "delete_cmd_prefix": "rm(",
     "library": "var_list.r",
     "varRefreshCmd": "cat(var_dic_list()) "
    }
   },
   "types_to_exclude": [
    "module",
    "function",
    "builtin_function_or_method",
    "instance",
    "_Feature"
   ],
   "window_display": false
  }
 },
 "nbformat": 4,
 "nbformat_minor": 2
}
