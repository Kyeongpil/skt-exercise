{
 "cells": [
  {
   "cell_type": "code",
   "execution_count": 3,
   "metadata": {
    "ExecuteTime": {
     "end_time": "2017-10-11T06:38:45.830794Z",
     "start_time": "2017-10-11T06:38:45.823357Z"
    }
   },
   "outputs": [],
   "source": [
    "# coding: utf-8\n",
    "\n",
    "from bs4 import BeautifulSoup\n",
    "from newspaper import Article\n",
    "import requests\n",
    "from urllib.parse import quote\n",
    "from dateutil.relativedelta import relativedelta\n",
    "from datetime import datetime\n",
    "import json"
   ]
  },
  {
   "cell_type": "code",
   "execution_count": 4,
   "metadata": {
    "ExecuteTime": {
     "end_time": "2017-10-11T06:38:47.283430Z",
     "start_time": "2017-10-11T06:38:47.272244Z"
    },
    "collapsed": true
   },
   "outputs": [],
   "source": [
    "# 검색할 단어\n",
    "query = \"skt\"\n",
    "query = quote(query.encode('euc-kr'))"
   ]
  },
  {
   "cell_type": "code",
   "execution_count": 8,
   "metadata": {
    "ExecuteTime": {
     "end_time": "2017-10-11T06:39:29.150965Z",
     "start_time": "2017-10-11T06:39:29.147475Z"
    },
    "collapsed": true
   },
   "outputs": [],
   "source": [
    "date = datetime(2017, 10, 1)"
   ]
  },
  {
   "cell_type": "code",
   "execution_count": 43,
   "metadata": {
    "ExecuteTime": {
     "end_time": "2017-10-11T07:08:35.685730Z",
     "start_time": "2017-10-11T07:08:35.682374Z"
    }
   },
   "outputs": [],
   "source": [
    "base_url = \"http://search.naver.com/search.naver?where=news&query=skt&ie=utf8&sm=tab_opt&sort=0&photo=0&field=0&reporter_article=&pd=3&ds=2017.10.01&de=2017.10.02&docid=&nso=so%3Ar%2Cp%3Afrom20171001to20171002%2Ca%3Aall&mynews=0&mson=0&refresh_start=0&related=0\""
   ]
  },
  {
   "cell_type": "code",
   "execution_count": 44,
   "metadata": {
    "ExecuteTime": {
     "end_time": "2017-10-11T07:08:36.518022Z",
     "start_time": "2017-10-11T07:08:36.301383Z"
    }
   },
   "outputs": [],
   "source": [
    "res = requests.get(base_url + str(1))"
   ]
  },
  {
   "cell_type": "code",
   "execution_count": 46,
   "metadata": {
    "ExecuteTime": {
     "end_time": "2017-10-11T07:08:48.396459Z",
     "start_time": "2017-10-11T07:08:48.075676Z"
    },
    "collapsed": true
   },
   "outputs": [],
   "source": [
    "bs = BeautifulSoup(res.text, 'lxml')"
   ]
  },
  {
   "cell_type": "code",
   "execution_count": 47,
   "metadata": {
    "ExecuteTime": {
     "end_time": "2017-10-11T07:08:49.377148Z",
     "start_time": "2017-10-11T07:08:49.266120Z"
    }
   },
   "outputs": [
    {
     "data": {
      "text/plain": [
       "[<a class=\" _sp_each_title\" href=\"http://www.ddaily.co.kr/news/article.html?no=160900\" onclick=\"return goOtherCR(this, 'a=nws*y.outtit&amp;r=1&amp;i=880000AC_000000000000000002054906&amp;g=138.0002054906&amp;u='+urlencode(this.href));\" target=\"_blank\" title=\"알뜰폰 위기 ’진행형‘…9월 번호이동, SKT 5개월째 ’플러스‘\">알뜰폰 위기 ’진행형‘…9월 번호이동, <strong class=\"hl\">SKT</strong> 5개월째 ’플러스‘</a>,\n",
       " <a class=\" _sp_each_title\" href=\"http://www.dailygame.co.kr/view.php?ud=2017100219281465573\" onclick=\"return goOtherCR(this, 'a=nws*y.outtit&amp;r=2&amp;i=0810569E_000000000000000000109837&amp;g=347.0000109837&amp;u='+urlencode(this.href));\" target=\"_blank\" title=\"[포토] SKT T1 '피넛' 한왕호로 롤드컵 재도전!\">[포토] <strong class=\"hl\">SKT</strong> T1 '피넛' 한왕호로 롤드컵 재도전!</a>,\n",
       " <a class=\" _sp_each_title\" href=\"http://www.fomos.kr/redirect/news_view?news_cate_id=13&amp;entry_id=48822\" onclick=\"return goOtherCR(this, 'a=nws*y.outtit&amp;r=3&amp;i=88000146_000000000000000000163115&amp;g=236.0000163115&amp;u='+urlencode(this.href));\" target=\"_blank\" title=\"[롤드컵] 롱주-SKT-삼성, 中 우한 입성…중국 팬 열렬히 환호\">[롤드컵] 롱주-<strong class=\"hl\">SKT</strong>-삼성, 中 우한 입성…중국 팬 열렬히 환호</a>,\n",
       " <a class=\"_sp_each_url _sp_each_title\" href=\"http://www.cctvnews.co.kr/news/articleView.html?idxno=72676\" onclick=\"return goOtherCR(this, 'a=nws*x.outtit&amp;r=4&amp;i=8813C2CE_000000000000000000052748&amp;g=5298.0000052748&amp;u='+urlencode(this.href));\" target=\"_blank\" title=\"SKT, '2017 ICT메이커톤 대회' 개최\"><strong class=\"hl\">SKT</strong>, '2017 ICT메이커톤 대회' 개최</a>,\n",
       " <a class=\"_sp_each_url _sp_each_title\" href=\"http://www.mediapen.com/news/view/304069\" onclick=\"return goOtherCR(this, 'a=nws*y.outtit&amp;r=8&amp;i=88135205_000000000000000000186608&amp;g=5244.0000186608&amp;u='+urlencode(this.href));\" target=\"_blank\" title=\"[기자수첩]SKT·KT·LG유플러스…공용 와이파이는 '공짜' 아니다\">[기자수첩]<strong class=\"hl\">SKT</strong>·KT·LG유플러스…공용 와이파이는 '공짜' 아니다</a>,\n",
       " <a class=\"_sp_each_url _sp_each_title\" href=\"http://www.cctvnews.co.kr/news/articleView.html?idxno=72675\" onclick=\"return goOtherCR(this, 'a=nws*y.outtit&amp;r=9&amp;i=8813C2CE_000000000000000000052746&amp;g=5298.0000052746&amp;u='+urlencode(this.href));\" target=\"_blank\" title=\"SKT, ICT 체험관 티움에 외국인 유학생 초청\"><strong class=\"hl\">SKT</strong>, ICT 체험관 티움에 외국인 유학생 초청</a>,\n",
       " <a class=\" _sp_each_title\" href=\"http://www.fomos.kr/redirect/news_view?news_cate_id=13&amp;entry_id=48808\" onclick=\"return goOtherCR(this, 'a=nws*y.outtit&amp;r=10&amp;i=88000146_000000000000000000163101&amp;g=236.0000163101&amp;u='+urlencode(this.href));\" target=\"_blank\" title='\"롤드컵 우승을 목표로\" 롱주-SKT-삼성, 2일 중국으로 출국'>\"롤드컵 우승을 목표로\" 롱주-<strong class=\"hl\">SKT</strong>-삼성, 2일 중국으로 출국</a>,\n",
       " <a class=\" _sp_each_title\" href=\"http://www.dailygame.co.kr/view.php?ud=2017100212003039572\" onclick=\"return goOtherCR(this, 'a=nws*y.outtit&amp;r=11&amp;i=0810569E_000000000000000000109828&amp;g=347.0000109828&amp;u='+urlencode(this.href));\" target=\"_blank\" title=\"[포토] SKT '페이커' 이상혁 롤드컵 출국 화보?\">[포토] <strong class=\"hl\">SKT</strong> '페이커' 이상혁 롤드컵 출국 화보?</a>,\n",
       " <a class=\" _sp_each_title\" href=\"http://www.dailygame.co.kr/view.php?ud=2017100211520135726\" onclick=\"return goOtherCR(this, 'a=nws*y.outtit&amp;r=12&amp;i=0810569E_000000000000000000109826&amp;g=347.0000109826&amp;u='+urlencode(this.href));\" target=\"_blank\" title=\"[포토] SKT '블랭크' 강선구, 졸리지만 '브이'\">[포토] <strong class=\"hl\">SKT</strong> '블랭크' 강선구, 졸리지만 '브이'</a>,\n",
       " <a class=\" _sp_each_title\" href=\"http://www.dailygame.co.kr/view.php?ud=2017100211484433500\" onclick=\"return goOtherCR(this, 'a=nws*y.outtit&amp;r=13&amp;i=0810569E_000000000000000000109825&amp;g=347.0000109825&amp;u='+urlencode(this.href));\" target=\"_blank\" title=\"[포토] SKT '울프' 이재완 '언제 출발하나…'\">[포토] <strong class=\"hl\">SKT</strong> '울프' 이재완 '언제 출발하나…'</a>]"
      ]
     },
     "execution_count": 47,
     "metadata": {},
     "output_type": "execute_result"
    }
   ],
   "source": [
    "linkList = bs.findAll('a', {'class': '_sp_each_title'})\n",
    "linkList"
   ]
  },
  {
   "cell_type": "code",
   "execution_count": 19,
   "metadata": {
    "ExecuteTime": {
     "end_time": "2017-10-11T06:48:32.591560Z",
     "start_time": "2017-10-11T06:48:31.681081Z"
    }
   },
   "outputs": [],
   "source": [
    "article = Article(linkList[0]['href'], language='ko')\n",
    "article.download()\n",
    "article.parse()"
   ]
  },
  {
   "cell_type": "code",
   "execution_count": 26,
   "metadata": {
    "ExecuteTime": {
     "end_time": "2017-10-11T06:50:18.849341Z",
     "start_time": "2017-10-11T06:50:18.842825Z"
    }
   },
   "outputs": [
    {
     "data": {
      "text/plain": [
       "'SK텔레콤은이 사물인터넷 진흥주간을 맞아 11일부터 사흘간 코엑스에서 열리는 ‘사물인터넷 국제전시회’에서 가정과 일터, 도시와 농장 등 우리의 일상생활 전반에 적용된 다양한 IoT 제품과 서비스를 선보인다고 밝혔다./사진제공=SK텔레콤\\n\\n1000 -0.4%) (266,500원1000 -0.4%)\\n\\n은 사물인터넷(IoT) 진흥주간을 맞아 11일부터 사흘간 코엑스에서 열리는 ‘사물인터넷 국제전시회’에 부스를 마련하고 가정과 일터, 도시와 농장 등 우리 일상생활 전반에 적용된 다양한 IoT 제품과 서비스를 선보인다고 밝혔다.137평(약 459㎡) 규모로 선보이는 이번 전시의 주제는 ‘진짜 IoT(True IoT with SK Telecom)’다. 전시부스는 우리의 일상생활 전반을 상징하는 ‘가정’과 ‘일터’, ‘농장+도시’, ‘자동차’의 4개 구역과 SK텔레콤의 IoT 플랫폼과 네트워크를 소개하는 ‘트루 IoT 존’으로 구성된다.가정 구역에선 에어컨과 로봇청소기, 온도조절기, CCTV, 가스경보기, 레인지후드, 정수기, 밥솥, 공기질센서, 공기청정기, 제습기, 세탁기, 조명 등 SK텔레콤의 IoT와 결합된 다양한 가전 제품들이 소개된다. SK텔레콤은 현재 70여 제조사와 손잡고 300여 모델을 시장에 출시했다.자동차 구역에선 SK네트웍스와 함께 IoT를 활용한 법인 자동차 운행관리 서비스를 선보이며 일터 구역에선 로라(LoRa)망을 활용하는 가스와 수도 검침, 시설물 위험감지 시스템, 고정형 가스감지기 등 각종 제품과 서비스가 소개된다.또한, 농장+도시 구역에선 가축이나 농장의 각종 데이터를 IoT망을 통해 확인하고 관리 효율을 높이는 ‘라이브케어’와 ‘수목생장관리’, 도시 생활에서 해마다 관심이 높아지는 ‘미세먼지 모니터링 서비스’가 전시된다.전시부스 중앙의 ‘트루 IoT 존’에서는 IoT 생태계를 만들어가는 SK텔레콤의 IoT 전용 플랫폼인 ‘씽플러그 2.0’과 하이브리드 IoT망을 구성하는 로라와 ‘LTE-M’이 소개된다.김장기 SK텔레콤 IoT사업부문장은 “국내에서 유일하게 로라 전국망을 구축하고 각종 제품을 선보여온 SK텔레콤을 통해 IoT 시대가 이미 우리의 일상생활 속으로 들어왔다는 것을 확인할 수 있도록 이번 전시를 구성했다”며 “앞으로도 IoT파트너들과 다양한 결실을 맺으며 IoT 생태계를 선도해 나갈 것”이라고 밝혔다.'"
      ]
     },
     "execution_count": 26,
     "metadata": {},
     "output_type": "execute_result"
    }
   ],
   "source": [
    "article.text"
   ]
  },
  {
   "cell_type": "code",
   "execution_count": null,
   "metadata": {
    "collapsed": true
   },
   "outputs": [],
   "source": []
  }
 ],
 "metadata": {
  "kernelspec": {
   "display_name": "Python 3",
   "language": "python",
   "name": "python3"
  },
  "language_info": {
   "codemirror_mode": {
    "name": "ipython",
    "version": 3
   },
   "file_extension": ".py",
   "mimetype": "text/x-python",
   "name": "python",
   "nbconvert_exporter": "python",
   "pygments_lexer": "ipython3",
   "version": "3.6.3"
  },
  "varInspector": {
   "cols": {
    "lenName": 16,
    "lenType": 16,
    "lenVar": 40
   },
   "kernels_config": {
    "python": {
     "delete_cmd_postfix": "",
     "delete_cmd_prefix": "del ",
     "library": "var_list.py",
     "varRefreshCmd": "print(var_dic_list())"
    },
    "r": {
     "delete_cmd_postfix": ") ",
     "delete_cmd_prefix": "rm(",
     "library": "var_list.r",
     "varRefreshCmd": "cat(var_dic_list()) "
    }
   },
   "types_to_exclude": [
    "module",
    "function",
    "builtin_function_or_method",
    "instance",
    "_Feature"
   ],
   "window_display": false
  }
 },
 "nbformat": 4,
 "nbformat_minor": 2
}
