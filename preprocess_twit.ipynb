{
 "cells": [
  {
   "cell_type": "code",
   "execution_count": null,
   "metadata": {
    "ExecuteTime": {
     "end_time": "2017-09-14T05:28:59.070731Z",
     "start_time": "2017-09-14T05:28:59.066422Z"
    },
    "collapsed": true
   },
   "outputs": [],
   "source": [
    "from pprint import pprint\n",
    "import json\n",
    "import re"
   ]
  },
  {
   "cell_type": "code",
   "execution_count": null,
   "metadata": {
    "ExecuteTime": {
     "end_time": "2017-09-14T05:29:24.173541Z",
     "start_time": "2017-09-14T05:29:11.889069Z"
    },
    "collapsed": true
   },
   "outputs": [],
   "source": [
    "with open(\"twitData.json\", 'r') as f:\n",
    "    data = json.load(f)"
   ]
  },
  {
   "cell_type": "code",
   "execution_count": null,
   "metadata": {
    "ExecuteTime": {
     "end_time": "2017-09-14T05:05:18.983523Z",
     "start_time": "2017-09-14T05:05:18.926690Z"
    }
   },
   "outputs": [],
   "source": [
    "print(len(data))\n",
    "pprint(data[0])\n",
    "# 우리가 실제 사용할 것은 english를 사용하는 트윗의 userName, body, postedTime, retweetCount 등\n",
    "# 필요한 것만 떼어내서 데이터의 크기를 줄이자"
   ]
  },
  {
   "cell_type": "code",
   "execution_count": null,
   "metadata": {
    "ExecuteTime": {
     "end_time": "2017-09-14T05:29:45.059852Z",
     "start_time": "2017-09-14T05:29:44.124879Z"
    },
    "collapsed": true
   },
   "outputs": [],
   "source": [
    "new_data = []\n",
    "for twit in data:\n",
    "    try:\n",
    "        if twit['twitter_lang'] == 'en':\n",
    "            # english를 사용하는 twitter만 사용\n",
    "            new_twit = {}\n",
    "            # username\n",
    "            new_twit['userName'] = twit['actor']['displayName']\n",
    "\n",
    "            # body(본문), 전처리하기\n",
    "            body = re.sub(r\"http\\S+\", \"\", twit['body'])  # url 제거\n",
    "            body = body.replace(\"RT\", \"\")  # RT 제거\n",
    "            body = body.replace(\"\\n\", \" \")  # 개행 제거\n",
    "            body = body.replace(\"&amp;\", \" \")  # & 제거\n",
    "            body = re.sub(\"\\d{4}-\\d{2}-\\d{2}\", \" \", body)  # 연도 제거\n",
    "            body = re.sub(\"@\\w+\", \"\", body)  # 호출 제거\n",
    "            body = re.sub(\"\\W\", \" \", body)  # 특수문자 제거\n",
    "            body = \" \".join(body.split())  # 중복 space는 하나의 space로 교체\n",
    "            body = body.lower()  # 대문자를 소문자로\n",
    "            if body[-1] == '-':  # 마지막 - 있는 경우 제거\n",
    "                body = body[:-1]\n",
    "            body = body.rstrip()  # 앞 뒤 여백 제거\n",
    "            new_twit['body'] = body\n",
    "\n",
    "            # 게시일\n",
    "            new_twit['postedTime'] = twit['postedTime']\n",
    "            # 리트윗 수\n",
    "            new_twit['retweetCount'] = twit['retweetCount']\n",
    "\n",
    "            new_data.append(new_twit)\n",
    "    except:\n",
    "        # 잘못된 형식의 트윗\n",
    "        continue\n",
    "\n",
    "with open(\"twit_new.json\", 'w') as f:\n",
    "    json.dump(new_data, f)"
   ]
  },
  {
   "cell_type": "code",
   "execution_count": null,
   "metadata": {
    "ExecuteTime": {
     "end_time": "2017-09-14T05:29:57.529617Z",
     "start_time": "2017-09-14T05:29:57.522417Z"
    }
   },
   "outputs": [],
   "source": [
    "print(len(new_data))"
   ]
  }
 ],
 "metadata": {
  "_draft": {
   "nbviewer_url": "https://gist.github.com/56fdfbe2a0b570c85f0291b379dfc653"
  },
  "gist": {
   "data": {
    "description": "preprocess_twit.ipynb",
    "public": false
   },
   "id": "56fdfbe2a0b570c85f0291b379dfc653"
  },
  "kernelspec": {
   "display_name": "Python 3",
   "language": "python",
   "name": "python3"
  },
  "language_info": {
   "codemirror_mode": {
    "name": "ipython",
    "version": 3
   },
   "file_extension": ".py",
   "mimetype": "text/x-python",
   "name": "python",
   "nbconvert_exporter": "python",
   "pygments_lexer": "ipython3",
   "version": "3.6.2"
  },
  "varInspector": {
   "cols": {
    "lenName": 16,
    "lenType": 16,
    "lenVar": 40
   },
   "kernels_config": {
    "python": {
     "delete_cmd_postfix": "",
     "delete_cmd_prefix": "del ",
     "library": "var_list.py",
     "varRefreshCmd": "print(var_dic_list())"
    },
    "r": {
     "delete_cmd_postfix": ") ",
     "delete_cmd_prefix": "rm(",
     "library": "var_list.r",
     "varRefreshCmd": "cat(var_dic_list()) "
    }
   },
   "types_to_exclude": [
    "module",
    "function",
    "builtin_function_or_method",
    "instance",
    "_Feature"
   ],
   "window_display": false
  }
 },
 "nbformat": 4,
 "nbformat_minor": 2
}
