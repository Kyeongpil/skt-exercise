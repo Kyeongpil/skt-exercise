{
 "cells": [
  {
   "cell_type": "code",
   "execution_count": 1,
   "metadata": {
    "ExecuteTime": {
     "end_time": "2018-05-25T06:55:54.853266Z",
     "start_time": "2018-05-25T06:55:54.452489Z"
    }
   },
   "outputs": [],
   "source": [
    "import requests\n",
    "from bs4 import BeautifulSoup"
   ]
  },
  {
   "cell_type": "code",
   "execution_count": 2,
   "metadata": {
    "ExecuteTime": {
     "end_time": "2018-05-25T06:56:34.041660Z",
     "start_time": "2018-05-25T06:56:33.880671Z"
    }
   },
   "outputs": [],
   "source": [
    "res = requests.get(\"https://movie.naver.com//movie/bi/mi/pointWriteFormList.nhn?code=149236&type=after&isActualPointWriteExecute=false&isMileageSubscriptionAlready=false&isMileageSubscriptionReject=false&page=2\")"
   ]
  },
  {
   "cell_type": "code",
   "execution_count": 4,
   "metadata": {
    "ExecuteTime": {
     "end_time": "2018-05-25T06:57:36.162936Z",
     "start_time": "2018-05-25T06:57:36.130562Z"
    }
   },
   "outputs": [],
   "source": [
    "b = BeautifulSoup(res.text, 'lxml')"
   ]
  },
  {
   "cell_type": "code",
   "execution_count": 7,
   "metadata": {
    "ExecuteTime": {
     "end_time": "2018-05-25T06:59:19.755830Z",
     "start_time": "2018-05-25T06:59:19.748135Z"
    }
   },
   "outputs": [],
   "source": [
    "score_result = b.find('div', {'class': 'score_result'})"
   ]
  },
  {
   "cell_type": "code",
   "execution_count": 12,
   "metadata": {
    "ExecuteTime": {
     "end_time": "2018-05-25T07:02:14.871666Z",
     "start_time": "2018-05-25T07:02:14.864878Z"
    }
   },
   "outputs": [
    {
     "data": {
      "text/plain": [
       "<span class=\"ico_viewer\">관람객</span>"
      ]
     },
     "execution_count": 12,
     "metadata": {},
     "output_type": "execute_result"
    }
   ],
   "source": [
    "score_result.findAll('li')[0].find('span', {'class': 'ico_viewer'}).extract()"
   ]
  },
  {
   "cell_type": "code",
   "execution_count": 13,
   "metadata": {
    "ExecuteTime": {
     "end_time": "2018-05-25T07:02:22.115191Z",
     "start_time": "2018-05-25T07:02:22.104108Z"
    }
   },
   "outputs": [
    {
     "data": {
      "text/plain": [
       "<li>\n",
       "<div class=\"star_score\">\n",
       "<span class=\"st_off\"><span class=\"st_on\" style=\"width:100.0%\"></span></span><em>10</em>\n",
       "</div>\n",
       "<div class=\"score_reple\">\n",
       "<p>번역의 중요성.. 역시 재미있네요  </p>\n",
       "<dl>\n",
       "<dt>\n",
       "<em>\n",
       "<a href=\"#\" onclick=\"javascript:showPointListByNid(14110067, 'after');parent.clickcr(this, 'ara.uid', '', '', event); return false;\" target=\"_top\">\n",
       "<span>hipi****</span>\n",
       "</a>\n",
       "</em>\n",
       "<em>2018.05.16 11:28</em>\n",
       "</dt>\n",
       "<dd>\n",
       "<a class=\"go_report2\" href=\"#\" onclick=\"parent.clickcr(this, 'ara.report', '', '', event); common.report('false','hipi****', '0rY+f+rN9WszMiG+7Z40ED6xRsB2qDTaKVTQL123Jk0=', '번역의 중요성.. 역시 재미있네요 ', '14110067', 'point_after', false);return false;\"><em>신고</em></a>\n",
       "</dd>\n",
       "</dl>\n",
       "</div>\n",
       "<div class=\"btn_area\">\n",
       "<a class=\"_sympathyButton\" href=\"#\" onclick=\"parent.clickcr(this, 'ara.sym', '', '', event);\"><span class=\"blind\">공감</span></a><strong><span class=\"sympathy_14110067 count\">641</span></strong>\n",
       "<a class=\"_notSympathyButton\" href=\"#\" onclick=\"parent.clickcr(this, 'ara.opp', '', '', event);\"><span class=\"blind\">비공감</span></a><strong><span class=\"notSympathy_14110067 count v2\">40</span></strong>\n",
       "</div>\n",
       "</li>"
      ]
     },
     "execution_count": 13,
     "metadata": {},
     "output_type": "execute_result"
    }
   ],
   "source": [
    "score_result.findAll('li')[0]"
   ]
  },
  {
   "cell_type": "code",
   "execution_count": 15,
   "metadata": {
    "ExecuteTime": {
     "end_time": "2018-05-25T07:18:01.356248Z",
     "start_time": "2018-05-25T07:18:01.349574Z"
    }
   },
   "outputs": [
    {
     "data": {
      "text/plain": [
       "'10'"
      ]
     },
     "execution_count": 15,
     "metadata": {},
     "output_type": "execute_result"
    }
   ],
   "source": [
    "reple_one = score_result.findAll('li')[0]\n",
    "\n",
    "score = reple_one.find('div', {'class': 'star_score'}).find('em').text"
   ]
  },
  {
   "cell_type": "code",
   "execution_count": 19,
   "metadata": {
    "ExecuteTime": {
     "end_time": "2018-05-25T07:19:22.840605Z",
     "start_time": "2018-05-25T07:19:22.834181Z"
    }
   },
   "outputs": [
    {
     "data": {
      "text/plain": [
       "'번역의 중요성.. 역시 재미있네요'"
      ]
     },
     "execution_count": 19,
     "metadata": {},
     "output_type": "execute_result"
    }
   ],
   "source": [
    "reple_one.find('div', {'class': 'score_reple'}).find('p').text.strip()"
   ]
  },
  {
   "cell_type": "code",
   "execution_count": 20,
   "metadata": {
    "ExecuteTime": {
     "end_time": "2018-05-25T07:20:56.358380Z",
     "start_time": "2018-05-25T07:20:56.349584Z"
    }
   },
   "outputs": [
    {
     "name": "stdout",
     "output_type": "stream",
     "text": [
      "번역의 중요성.. 역시 재미있네요 10\n",
      "마블영화중 쿠키영상 역대급이다 ㅋㅋ  솔까말 데드풀설정이라 가능한 9\n",
      "관람객이 영화를 보고 발기부전이 치료됐습니다.초월번역에도 감동해 눈물을 흘렸습니다..개꿀잼 12점주고 싶네요. 10\n",
      "어벤져스4도 황석희님이 번역해주세요 제발 부탁드립니다. 10\n",
      "실망시키지 않네. 다른영화들은 2편 나오면 흥행확률이 적다는데 마블영화는 역시 대단하고 재밌다. 10\n",
      "관람객겨울왕국 19금 불지옥 버전. 개꿀잼 10\n",
      "관람객재밌긴한데 엑스맨시리즈 안본 사람들은 드립이해 못할것같아요 9\n",
      "약빨고 만들었네ㅋㅋ 이게 번역이다 10\n",
      "쿠키영상에 이렇게 폭소하긴 처음이네 ㅋㅋㅋ 10\n",
      "타임라인정리 ㅅㅂ ㅋㅋ 10\n"
     ]
    }
   ],
   "source": [
    "for reple_one in score_result.findAll('li'):\n",
    "    score = reple_one.find('div', {'class': 'star_score'}).find('em').text\n",
    "    review = reple_one.find('div', {'class': 'score_reple'}).find('p').text.strip()\n",
    "    \n",
    "    print(review, score)"
   ]
  },
  {
   "cell_type": "code",
   "execution_count": null,
   "metadata": {},
   "outputs": [],
   "source": [
    "from time import sleep\n",
    "i = 1\n",
    "for movieCode in range(1, 200000):\n",
    "while True:\n",
    "    res = requests.get(\"https://movie.naver.com//movie/bi/mi/pointWriteFormList.nhn?code={}&type=after&isActualPointWriteExecute=false&isMileageSubscriptionAlready=false&isMileageSubscriptionReject=false&page={}\".format(movieCode, i))\n",
    "    b = BeautifulSoup(res.text, 'lxml')\n",
    "    if int(b.find('div', {'class': 'paging'}).find('span', {'class': 'on'}).text) != i:\n",
    "        break\n",
    "    \n",
    "    # 리뷰 정보 추출\n",
    "    for reple_one in score_result.findAll('li'):\n",
    "        score = reple_one.find('div', {'class': 'star_score'}).find('em').text\n",
    "        review = reple_one.find('div', {'class': 'score_reple'}).find('p').text.strip()\n",
    "\n",
    "        print(review, score)\n",
    "    i += 1\n",
    "    \n",
    "    sleep(0.1)"
   ]
  },
  {
   "cell_type": "code",
   "execution_count": 27,
   "metadata": {
    "ExecuteTime": {
     "end_time": "2018-05-25T07:26:32.682574Z",
     "start_time": "2018-05-25T07:26:32.672051Z"
    }
   },
   "outputs": [
    {
     "data": {
      "text/plain": [
       "False"
      ]
     },
     "execution_count": 27,
     "metadata": {},
     "output_type": "execute_result"
    }
   ],
   "source": [
    "https://github.com/rudvlf0413/crawler"
   ]
  },
  {
   "cell_type": "code",
   "execution_count": null,
   "metadata": {},
   "outputs": [],
   "source": []
  }
 ],
 "metadata": {
  "kernelspec": {
   "display_name": "Python 3",
   "language": "python",
   "name": "python3"
  },
  "language_info": {
   "codemirror_mode": {
    "name": "ipython",
    "version": 3
   },
   "file_extension": ".py",
   "mimetype": "text/x-python",
   "name": "python",
   "nbconvert_exporter": "python",
   "pygments_lexer": "ipython3",
   "version": "3.6.5"
  },
  "varInspector": {
   "cols": {
    "lenName": 16,
    "lenType": 16,
    "lenVar": 40
   },
   "kernels_config": {
    "python": {
     "delete_cmd_postfix": "",
     "delete_cmd_prefix": "del ",
     "library": "var_list.py",
     "varRefreshCmd": "print(var_dic_list())"
    },
    "r": {
     "delete_cmd_postfix": ") ",
     "delete_cmd_prefix": "rm(",
     "library": "var_list.r",
     "varRefreshCmd": "cat(var_dic_list()) "
    }
   },
   "types_to_exclude": [
    "module",
    "function",
    "builtin_function_or_method",
    "instance",
    "_Feature"
   ],
   "window_display": false
  }
 },
 "nbformat": 4,
 "nbformat_minor": 2
}
