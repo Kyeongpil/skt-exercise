{
 "cells": [
  {
   "cell_type": "code",
   "execution_count": 2,
   "metadata": {
    "ExecuteTime": {
     "end_time": "2018-05-25T06:40:55.257209Z",
     "start_time": "2018-05-25T06:40:54.434891Z"
    }
   },
   "outputs": [],
   "source": [
    "from konlpy.tag import Twitter\n",
    "from ipywidgets import FloatProgress\n",
    "from IPython.display import display\n",
    "from torch.autograd import Variable\n",
    "from torch import nn\n",
    "from torch.nn import functional as F\n",
    "from torch.utils.data import TensorDataset\n",
    "from torch.utils.data import DataLoader\n",
    "import pickle\n",
    "import torch\n",
    "import os\n",
    "\n",
    "twitter = Twitter()\n",
    "if not os.path.exists(\"./data\"):\n",
    "    os.mkdir(\"./data\")"
   ]
  },
  {
   "cell_type": "code",
   "execution_count": 3,
   "metadata": {
    "ExecuteTime": {
     "end_time": "2018-05-25T06:40:56.228387Z",
     "start_time": "2018-05-25T06:40:55.930937Z"
    }
   },
   "outputs": [
    {
     "name": "stdout",
     "output_type": "stream",
     "text": [
      "num_iter: 7871\n"
     ]
    }
   ],
   "source": [
    "with open(\"data/data_deep.pkl\", \"rb\") as f:\n",
    "    index2voca = pickle.load(f)\n",
    "    voca2index = pickle.load(f)\n",
    "    train_X = pickle.load(f)\n",
    "    train_y = pickle.load(f)\n",
    "    test_X = pickle.load(f)\n",
    "    test_y = pickle.load(f)\n",
    "\n",
    "vocaNum = len(index2voca)\n",
    "trainNum = len(train_y)\n",
    "testNum = len(test_y)\n",
    "\n",
    "embedding_dim = 200\n",
    "epoch = 10\n",
    "batch_size = 32\n",
    "num_iter = int(trainNum/batch_size)\n",
    "print_iter = 2000\n",
    "print(f\"num_iter: {num_iter}\")"
   ]
  },
  {
   "cell_type": "code",
   "execution_count": 6,
   "metadata": {
    "ExecuteTime": {
     "end_time": "2018-05-25T06:41:11.837235Z",
     "start_time": "2018-05-25T06:41:11.604289Z"
    }
   },
   "outputs": [],
   "source": [
    "train_X = torch.from_numpy(train_X).long()\n",
    "train_y = torch.from_numpy(train_y).view(-1, 1)\n",
    "test_X = torch.from_numpy(test_X).long()\n",
    "test_y = torch.from_numpy(test_y).view(-1, 1)\n",
    "\n",
    "train = TensorDataset(train_X, train_y)\n",
    "train_loader = DataLoader(train, batch_size=batch_size, shuffle=True, num_workers=1)\n",
    "test = TensorDataset(test_X, test_y)\n",
    "test_loader = DataLoader(test, batch_size=batch_size, shuffle=True)\n",
    "\n",
    "mode = 'CPU'"
   ]
  },
  {
   "cell_type": "code",
   "execution_count": 4,
   "metadata": {
    "ExecuteTime": {
     "end_time": "2018-05-25T06:40:58.316040Z",
     "start_time": "2018-05-25T06:40:58.307823Z"
    }
   },
   "outputs": [],
   "source": [
    "class CNNReg(nn.Module):\n",
    "    def __init__(self):\n",
    "        super(CNNReg, self).__init__()\n",
    "        self.kernel_size = [2,3,4]\n",
    "        self.channel_out = 40\n",
    "        self.embedding = nn.Embedding(vocaNum, embedding_dim, padding_idx=0)\n",
    "        self.conv1 = nn.ModuleList([nn.Conv2d(1, self.channel_out, (k, embedding_dim)) \n",
    "                      for k in self.kernel_size])\n",
    "        self.linear1 = nn.Linear(self.channel_out*len(self.kernel_size),10)\n",
    "        self.linear2 = nn.Linear(10,1)\n",
    "        self.dropout = nn.Dropout()\n",
    "        \n",
    "    def forward(self, x):\n",
    "        embed = self.embedding(x)  # (N, W, D)\n",
    "        embed = embed.unsqueeze(1) # (N,1,W,D), 1: channel_in\n",
    "        \n",
    "        #[(N,Channel_out,W,1), ...] * len(Kernel_size)\n",
    "        feature_maps = [F.leaky_relu(conv(embed)) for conv in self.conv1]\n",
    "        #[(N,Channel_out,W), ...] * len(Kernel_size)\n",
    "        feature_maps = [feature_map.squeeze(3) for feature_map in feature_maps]\n",
    "        \n",
    "        #[(N, Channel_out), ...] * len(Kernel_size)\n",
    "        pooled_output = [F.max_pool1d(feature_map, feature_map.size(2)) for feature_map in feature_maps]\n",
    "        output = torch.cat(pooled_output, 1)\n",
    "        output = output.view(output.size(0),-1)\n",
    "        output = self.dropout(output)\n",
    "        output = F.relu(self.linear1(output))\n",
    "        output = self.dropout(output)\n",
    "        output = self.linear2(output)\n",
    "        return output"
   ]
  },
  {
   "cell_type": "code",
   "execution_count": 6,
   "metadata": {
    "ExecuteTime": {
     "end_time": "2018-05-24T05:29:13.379394Z",
     "start_time": "2018-05-24T05:29:13.053162Z"
    }
   },
   "outputs": [
    {
     "name": "stdout",
     "output_type": "stream",
     "text": [
      "CNNReg (\n",
      "  (embedding): Embedding(20000, 200, padding_idx=0)\n",
      "  (conv1): ModuleList (\n",
      "    (0): Conv2d(1, 40, kernel_size=(2, 200), stride=(1, 1))\n",
      "    (1): Conv2d(1, 40, kernel_size=(3, 200), stride=(1, 1))\n",
      "    (2): Conv2d(1, 40, kernel_size=(4, 200), stride=(1, 1))\n",
      "  )\n",
      "  (linear1): Linear (120 -> 10)\n",
      "  (linear2): Linear (10 -> 1)\n",
      "  (dropout): Dropout (p = 0.5)\n",
      ")\n"
     ]
    }
   ],
   "source": [
    "reg = CNNReg()\n",
    "if mode == 'GPU':\n",
    "    reg.cuda()\n",
    "print(reg)\n",
    "\n",
    "criterion = nn.MSELoss()\n",
    "opt = torch.optim.Adam(reg.parameters())"
   ]
  },
  {
   "cell_type": "code",
   "execution_count": null,
   "metadata": {
    "ExecuteTime": {
     "end_time": "2017-10-07T18:59:10.163430Z",
     "start_time": "2017-10-07T18:45:16.029102Z"
    },
    "scrolled": true
   },
   "outputs": [],
   "source": [
    "f = FloatProgress(min=0, max=print_iter)\n",
    "display(f)\n",
    "for e in range(epoch):\n",
    "    for i, (batch_X, batch_y) in enumerate(train_loader):\n",
    "        f.value += 1\n",
    "        \n",
    "        if mode == 'GPU':\n",
    "            batch_X = Variable(batch_X).cuda()\n",
    "            batch_y = Variable(batch_y).cuda()\n",
    "        else:\n",
    "            batch_X = Variable(batch_X)\n",
    "            batch_y = Variable(batch_y)\n",
    "\n",
    "        predict = reg(batch_X)\n",
    "        \n",
    "        opt.zero_grad()\n",
    "        loss = criterion(predict, batch_y)\n",
    "        loss.backward()\n",
    "        opt.step()\n",
    "        \n",
    "        if i%print_iter == 0 or i==num_iter-1:\n",
    "            f.value=0\n",
    "            print(\"batch: {}, iteration: {}, loss: {}\\n\".format(e, i, loss.data.mean()))\n",
    "            \n",
    "torch.save(reg.state_dict(), './data/cnn_regression.pkl')"
   ]
  },
  {
   "cell_type": "code",
   "execution_count": 107,
   "metadata": {
    "ExecuteTime": {
     "end_time": "2017-10-07T18:59:34.018536Z",
     "start_time": "2017-10-07T18:59:25.858875Z"
    }
   },
   "outputs": [
    {
     "data": {
      "application/vnd.jupyter.widget-view+json": {
       "model_id": "685fffe333294b8c85066b17faa79387"
      }
     },
     "metadata": {},
     "output_type": "display_data"
    },
    {
     "name": "stdout",
     "output_type": "stream",
     "text": [
      "test error(MAE): 0.17213349469312872\n"
     ]
    }
   ],
   "source": [
    "reg.eval()\n",
    "criterion = nn.L1Loss()\n",
    "num_iter = int(testNum/batch_size)\n",
    "f = FloatProgress(min=0, max=num_iter)\n",
    "display(f)\n",
    "average_loss = 0\n",
    "for i, (batch_X, batch_y) in enumerate(test_loader):\n",
    "    f.value += 1\n",
    "    \n",
    "    if mode == 'GPU':\n",
    "        batch_X = Variable(batch_X).cuda()\n",
    "        batch_y = Variable(batch_y).cuda()\n",
    "    else:\n",
    "        batch_X = Variable(batch_X)\n",
    "        batch_y = Variable(batch_y)\n",
    "\n",
    "    predict = reg(batch_X)\n",
    "    loss = criterion(predict, batch_y)\n",
    "    average_loss += loss.data.mean()\n",
    "\n",
    "average_loss /= num_iter\n",
    "print(\"test error(MAE): {}\".format(average_loss))\n",
    "# test error(MAE): 0.17213349469312872"
   ]
  },
  {
   "cell_type": "code",
   "execution_count": 8,
   "metadata": {
    "ExecuteTime": {
     "end_time": "2018-05-25T06:41:39.846472Z",
     "start_time": "2018-05-25T06:41:39.763070Z"
    }
   },
   "outputs": [],
   "source": [
    "reg = CNNReg()\n",
    "if mode == 'CPU':\n",
    "    reg.load_state_dict(torch.load(\"data/cnn_regression.pkl\", map_location=lambda storage, loc: storage))\n",
    "else:\n",
    "    reg.cuda()\n",
    "    reg.load_state_dict(torch.load(\"data/cnn_regression.pkl\"))"
   ]
  },
  {
   "cell_type": "code",
   "execution_count": 10,
   "metadata": {
    "ExecuteTime": {
     "end_time": "2018-05-25T06:42:22.425679Z",
     "start_time": "2018-05-25T06:42:22.394855Z"
    }
   },
   "outputs": [
    {
     "name": "stdout",
     "output_type": "stream",
     "text": [
      "predicted: 0.6114215850830078\n"
     ]
    }
   ],
   "source": [
    "reg.eval()\n",
    "test_seq = u\"정말 재미 있다.\"\n",
    "test_vec = torch.zeros(1, train_X.shape[1]).long()\n",
    "for i, w in enumerate(twitter.morphs(test_seq)):\n",
    "    test_vec[0, i] = voca2index.get(w, voca2index['<UNK>'])\n",
    "\n",
    "test_vec = Variable(test_vec)\n",
    "predict = reg(test_vec)\n",
    "print(\"predicted: {}\".format(predict.data.tolist()[0][0]))"
   ]
  },
  {
   "cell_type": "code",
   "execution_count": 13,
   "metadata": {
    "ExecuteTime": {
     "end_time": "2018-05-25T06:43:18.011900Z",
     "start_time": "2018-05-25T06:43:17.996009Z"
    }
   },
   "outputs": [
    {
     "name": "stdout",
     "output_type": "stream",
     "text": [
      "predicted: 0.562466025352478\n"
     ]
    }
   ],
   "source": [
    "reg.eval()\n",
    "test_seq = u\"정말 재미 있지 않다.\"\n",
    "test_vec = torch.zeros(1, train_X.shape[1]).long()\n",
    "for i, w in enumerate(twitter.morphs(test_seq)):\n",
    "    test_vec[0, i] = voca2index.get(w, voca2index['<UNK>'])\n",
    "\n",
    "test_vec = Variable(test_vec)\n",
    "predict = reg(test_vec)\n",
    "print(\"predicted: {}\".format(predict.data.tolist()[0][0]))"
   ]
  }
 ],
 "metadata": {
  "anaconda-cloud": {},
  "kernelspec": {
   "display_name": "Python 3",
   "language": "python",
   "name": "python3"
  },
  "language_info": {
   "codemirror_mode": {
    "name": "ipython",
    "version": 3
   },
   "file_extension": ".py",
   "mimetype": "text/x-python",
   "name": "python",
   "nbconvert_exporter": "python",
   "pygments_lexer": "ipython3",
   "version": "3.6.5"
  },
  "varInspector": {
   "cols": {
    "lenName": 16,
    "lenType": 16,
    "lenVar": 40
   },
   "kernels_config": {
    "python": {
     "delete_cmd_postfix": "",
     "delete_cmd_prefix": "del ",
     "library": "var_list.py",
     "varRefreshCmd": "print(var_dic_list())"
    },
    "r": {
     "delete_cmd_postfix": ") ",
     "delete_cmd_prefix": "rm(",
     "library": "var_list.r",
     "varRefreshCmd": "cat(var_dic_list()) "
    }
   },
   "types_to_exclude": [
    "module",
    "function",
    "builtin_function_or_method",
    "instance",
    "_Feature"
   ],
   "window_display": false
  },
  "widgets": {
   "state": {
    "3ad60a12bb044a05bc3d6ac485301381": {
     "views": [
      {
       "cell_index": 5
      }
     ]
    },
    "db7d13dba8da49ccae679120f3abb72f": {
     "views": [
      {
       "cell_index": 6
      }
     ]
    }
   },
   "version": "1.2.0"
  }
 },
 "nbformat": 4,
 "nbformat_minor": 1
}
