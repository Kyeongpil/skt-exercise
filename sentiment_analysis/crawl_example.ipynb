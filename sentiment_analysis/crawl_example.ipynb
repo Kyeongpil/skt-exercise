{
 "cells": [
  {
   "cell_type": "code",
   "execution_count": 2,
   "metadata": {
    "ExecuteTime": {
     "end_time": "2017-10-13T00:15:16.256776Z",
     "start_time": "2017-10-13T00:15:16.248750Z"
    }
   },
   "outputs": [],
   "source": [
    "import requests\n",
    "from bs4 import BeautifulSoup"
   ]
  },
  {
   "cell_type": "code",
   "execution_count": 3,
   "metadata": {
    "ExecuteTime": {
     "end_time": "2017-10-13T00:15:54.124264Z",
     "start_time": "2017-10-13T00:15:54.049841Z"
    },
    "collapsed": true
   },
   "outputs": [],
   "source": [
    "res = requests.get(\"http://movie.naver.com/movie/bi/mi/pointWriteFormList.nhn?code=161242&type=after&isActualPointWriteExecute=false&isMileageSubscriptionAlready=false&isMileageSubscriptionReject=false&page=1\")"
   ]
  },
  {
   "cell_type": "code",
   "execution_count": 5,
   "metadata": {
    "ExecuteTime": {
     "end_time": "2017-10-13T00:17:05.335677Z",
     "start_time": "2017-10-13T00:17:05.291940Z"
    },
    "collapsed": true
   },
   "outputs": [],
   "source": [
    "bs = BeautifulSoup(res.text, 'lxml')"
   ]
  },
  {
   "cell_type": "code",
   "execution_count": 7,
   "metadata": {
    "ExecuteTime": {
     "end_time": "2017-10-13T00:18:10.921037Z",
     "start_time": "2017-10-13T00:18:10.912253Z"
    }
   },
   "outputs": [],
   "source": [
    "div = bs.find('div', {'class': 'score_result'})"
   ]
  },
  {
   "cell_type": "code",
   "execution_count": 9,
   "metadata": {
    "ExecuteTime": {
     "end_time": "2017-10-13T00:18:48.116091Z",
     "start_time": "2017-10-13T00:18:48.111590Z"
    }
   },
   "outputs": [],
   "source": [
    "li = div.findAll('li')"
   ]
  },
  {
   "cell_type": "code",
   "execution_count": 14,
   "metadata": {
    "ExecuteTime": {
     "end_time": "2017-10-13T00:20:12.511003Z",
     "start_time": "2017-10-13T00:20:12.506796Z"
    }
   },
   "outputs": [],
   "source": [
    "review = li[0].find('div', {'class': 'score_reple'})"
   ]
  },
  {
   "cell_type": "code",
   "execution_count": 16,
   "metadata": {
    "ExecuteTime": {
     "end_time": "2017-10-13T00:20:40.735578Z",
     "start_time": "2017-10-13T00:20:40.731490Z"
    }
   },
   "outputs": [],
   "source": [
    "review = review.find('p')"
   ]
  },
  {
   "cell_type": "code",
   "execution_count": 22,
   "metadata": {
    "ExecuteTime": {
     "end_time": "2017-10-13T00:22:12.010233Z",
     "start_time": "2017-10-13T00:22:12.001657Z"
    }
   },
   "outputs": [
    {
     "data": {
      "text/plain": [
       "<span class=\"ico_best\">BEST</span>"
      ]
     },
     "execution_count": 22,
     "metadata": {},
     "output_type": "execute_result"
    }
   ],
   "source": [
    "review.find('span').extract()"
   ]
  },
  {
   "cell_type": "code",
   "execution_count": 24,
   "metadata": {
    "ExecuteTime": {
     "end_time": "2017-10-13T00:22:28.868695Z",
     "start_time": "2017-10-13T00:22:28.862706Z"
    }
   },
   "outputs": [
    {
     "data": {
      "text/plain": [
       "'꼭 봐라 아랏니????  '"
      ]
     },
     "execution_count": 24,
     "metadata": {},
     "output_type": "execute_result"
    }
   ],
   "source": [
    "review.text"
   ]
  },
  {
   "cell_type": "code",
   "execution_count": 26,
   "metadata": {
    "ExecuteTime": {
     "end_time": "2017-10-13T00:23:29.985224Z",
     "start_time": "2017-10-13T00:23:29.977385Z"
    }
   },
   "outputs": [],
   "source": [
    "score = li[0].find('div', {'class': 'star_score'})"
   ]
  },
  {
   "cell_type": "code",
   "execution_count": 30,
   "metadata": {
    "ExecuteTime": {
     "end_time": "2017-10-13T00:23:52.400993Z",
     "start_time": "2017-10-13T00:23:52.394922Z"
    }
   },
   "outputs": [
    {
     "data": {
      "text/plain": [
       "10"
      ]
     },
     "execution_count": 30,
     "metadata": {},
     "output_type": "execute_result"
    }
   ],
   "source": [
    "int(score.find('em').text)"
   ]
  },
  {
   "cell_type": "code",
   "execution_count": 31,
   "metadata": {
    "ExecuteTime": {
     "end_time": "2017-10-13T00:25:38.839606Z",
     "start_time": "2017-10-13T00:25:38.824229Z"
    },
    "collapsed": true
   },
   "outputs": [],
   "source": [
    "reviews = []\n",
    "\n",
    "for li_one in li:\n",
    "    review = li_one.find('div', {'class': 'score_reple'})\n",
    "    review = review.find('p')\n",
    "    review = review.text\n",
    "\n",
    "    score = li_one.find('div', {'class': 'star_score'})\n",
    "    score = int(score.find('em').text)\n",
    "\n",
    "    reviews.append((review, score))"
   ]
  },
  {
   "cell_type": "code",
   "execution_count": 32,
   "metadata": {
    "ExecuteTime": {
     "end_time": "2017-10-13T00:25:43.638097Z",
     "start_time": "2017-10-13T00:25:43.630774Z"
    }
   },
   "outputs": [
    {
     "data": {
      "text/plain": [
       "[('꼭 봐라 아랏니????  ', 10),\n",
       " ('BEST관람객범죄도시 이건 신세계. 베테랑. 공공의적 다 보이는 영화인것같다. 대박조짐 시사회때 봤는데 또볼수밖에 없네 2017년 영화 중 top 1임 다들 달려가세요!!!  ',\n",
       "  10),\n",
       " ('BEST관람객이렇게 주인공이 걱정이 안되는영화는 첨이네요..  ', 10),\n",
       " ('BEST관람객윤계상은 이제 배우라 불러도 손색없을듯! 악역 진짜 잘함 어찌나 몰입했던지 보는 중간에 나쁜놈이라 욕나옴. 시작은 마동석이 끝은 윤계상이 다함  ',\n",
       "  10),\n",
       " ('BEST관람객졸라잼있음 한번보세요  ', 10),\n",
       " ('혼자야?응 아직 싱글이야 ㅋㅋㅋㅋ  ', 10),\n",
       " ('관람객와~진짜 간만에 시원한 영화 한편 봤네. 고구마 같이 답답한 요즘 스트레스 풀어줄 사이다 같은 영화. 마동석 최고의 캐릭터이자 윤계상의 멋진 변신, 첨보는 배우들은 또 왤케 잘해ㅋㅋ 여튼 꿀잼임.  ',\n",
       "  10),\n",
       " ('관람객윤계상배우의 연기 멋졌어요.  ', 9),\n",
       " ('관람객시원하다 화끈하다 마블리를 느껴라  ', 10),\n",
       " ('기대 이상 꿀잼ㅋㅋㅋ 잔인 할수 있으나 마동석 고유의 연기랑 윤계상 조선족 연기로 몰입감 하나는 최고.  ', 10)]"
      ]
     },
     "execution_count": 32,
     "metadata": {},
     "output_type": "execute_result"
    }
   ],
   "source": [
    "reviews"
   ]
  },
  {
   "cell_type": "code",
   "execution_count": null,
   "metadata": {
    "collapsed": true
   },
   "outputs": [],
   "source": []
  }
 ],
 "metadata": {
  "kernelspec": {
   "display_name": "Python 3",
   "language": "python",
   "name": "python3"
  },
  "language_info": {
   "codemirror_mode": {
    "name": "ipython",
    "version": 3
   },
   "file_extension": ".py",
   "mimetype": "text/x-python",
   "name": "python",
   "nbconvert_exporter": "python",
   "pygments_lexer": "ipython3",
   "version": "3.6.3"
  }
 },
 "nbformat": 4,
 "nbformat_minor": 2
}
