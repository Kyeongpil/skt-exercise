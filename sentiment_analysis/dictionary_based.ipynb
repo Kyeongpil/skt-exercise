{
 "cells": [
  {
   "cell_type": "code",
   "execution_count": 7,
   "metadata": {
    "ExecuteTime": {
     "end_time": "2017-10-08T07:54:33.227838Z",
     "start_time": "2017-10-08T07:54:33.220378Z"
    },
    "collapsed": true
   },
   "outputs": [],
   "source": [
    "from konlpy.tag import Twitter\n",
    "from sklearn.metrics import mean_absolute_error\n",
    "import numpy as np\n",
    "import pickle\n",
    "\n",
    "twitter = Twitter()"
   ]
  },
  {
   "cell_type": "code",
   "execution_count": 8,
   "metadata": {
    "ExecuteTime": {
     "end_time": "2017-10-08T07:54:33.563938Z",
     "start_time": "2017-10-08T07:54:33.503946Z"
    },
    "collapsed": true
   },
   "outputs": [],
   "source": [
    "with open(\"data_ml.pkl\", \"rb\") as f:\n",
    "    index2voca = pickle.load(f)\n",
    "    voca2index = pickle.load(f)\n",
    "    train_X = pickle.load(f)\n",
    "    train_y = pickle.load(f)\n",
    "    test_X = pickle.load(f)\n",
    "    test_y = pickle.load(f)\n",
    "\n",
    "vocaNum = len(index2voca)\n",
    "trainNum = len(train_y)\n",
    "testNum = len(test_y)"
   ]
  },
  {
   "cell_type": "code",
   "execution_count": 13,
   "metadata": {
    "ExecuteTime": {
     "end_time": "2017-10-08T07:55:02.528423Z",
     "start_time": "2017-10-08T07:55:02.496326Z"
    },
    "collapsed": true
   },
   "outputs": [],
   "source": [
    "class dict_based():\n",
    "    def __init__(self, voca2index):\n",
    "        self.voca2index = voca2index\n",
    "        self.vocaNum = len(self.voca2index)\n",
    "        self.sentiment_dict = None\n",
    "        \n",
    "    def fit(self, train_X, train_y):\n",
    "        self.sentiment_dict = np.zeros(self.vocaNum)\n",
    "        word_freq = np.zeros(self.vocaNum)\n",
    "        for i,j in zip(*train_X.nonzero()):\n",
    "            self.sentiment_dict[j] += train_y[i]\n",
    "            word_freq[j] += 1\n",
    "        \n",
    "        self.sentiment_dict = np.divide(self.sentiment_dict, word_freq)\n",
    "            \n",
    "    def predict(self, test_input):\n",
    "        if type(test_input) == str:\n",
    "            test_vec = np.zeros((1, self.vocaNum))\n",
    "            for i, w in enumerate(twitter.morphs(test_input)):\n",
    "                test_vec[0, voca2index.get(w, voca2index['<UNK>'])] += 1\n",
    "\n",
    "            return np.divide(test_vec.dot(self.sentiment_dict), test_vec.sum(axis=1).T)[0]\n",
    "        else:\n",
    "            return np.divide(test_input.dot(self.sentiment_dict), test_input.sum(axis=1).T).T"
   ]
  },
  {
   "cell_type": "code",
   "execution_count": 14,
   "metadata": {
    "ExecuteTime": {
     "end_time": "2017-10-08T07:55:07.370332Z",
     "start_time": "2017-10-08T07:55:02.798652Z"
    },
    "collapsed": true
   },
   "outputs": [],
   "source": [
    "model = dict_based(voca2index)\n",
    "model.fit(train_X, train_y)"
   ]
  },
  {
   "cell_type": "code",
   "execution_count": 15,
   "metadata": {
    "ExecuteTime": {
     "end_time": "2017-10-08T07:55:07.395262Z",
     "start_time": "2017-10-08T07:55:07.373576Z"
    }
   },
   "outputs": [
    {
     "name": "stdout",
     "output_type": "stream",
     "text": [
      "mean absolute error: 0.24832614987235874\n"
     ]
    }
   ],
   "source": [
    "predicted = model.predict(test_X)\n",
    "print(\"mean absolute error: {}\".format(mean_absolute_error(test_y, predicted)))"
   ]
  },
  {
   "cell_type": "code",
   "execution_count": 16,
   "metadata": {
    "ExecuteTime": {
     "end_time": "2017-10-08T07:55:07.497611Z",
     "start_time": "2017-10-08T07:55:07.397048Z"
    }
   },
   "outputs": [
    {
     "name": "stdout",
     "output_type": "stream",
     "text": [
      "predict: 0.41497780130372824\n"
     ]
    }
   ],
   "source": [
    "test_seq = \"영화 재미없다\"\n",
    "predicted = model.predict(test_seq)\n",
    "print(\"predict: {}\".format(predicted))"
   ]
  },
  {
   "cell_type": "code",
   "execution_count": null,
   "metadata": {
    "ExecuteTime": {
     "end_time": "2017-10-08T07:54:12.557670Z",
     "start_time": "2017-10-08T07:54:08.656Z"
    },
    "collapsed": true
   },
   "outputs": [],
   "source": [
    "with open(\"dict_based.pkl\", 'wb') as f:\n",
    "    pickle.dump(model, f)"
   ]
  },
  {
   "cell_type": "code",
   "execution_count": null,
   "metadata": {
    "collapsed": true
   },
   "outputs": [],
   "source": []
  }
 ],
 "metadata": {
  "kernelspec": {
   "display_name": "Python 3",
   "language": "python",
   "name": "python3"
  },
  "language_info": {
   "codemirror_mode": {
    "name": "ipython",
    "version": 3
   },
   "file_extension": ".py",
   "mimetype": "text/x-python",
   "name": "python",
   "nbconvert_exporter": "python",
   "pygments_lexer": "ipython3",
   "version": "3.6.5"
  },
  "varInspector": {
   "cols": {
    "lenName": 16,
    "lenType": 16,
    "lenVar": 40
   },
   "kernels_config": {
    "python": {
     "delete_cmd_postfix": "",
     "delete_cmd_prefix": "del ",
     "library": "var_list.py",
     "varRefreshCmd": "print(var_dic_list())"
    },
    "r": {
     "delete_cmd_postfix": ") ",
     "delete_cmd_prefix": "rm(",
     "library": "var_list.r",
     "varRefreshCmd": "cat(var_dic_list()) "
    }
   },
   "types_to_exclude": [
    "module",
    "function",
    "builtin_function_or_method",
    "instance",
    "_Feature"
   ],
   "window_display": false
  }
 },
 "nbformat": 4,
 "nbformat_minor": 2
}
