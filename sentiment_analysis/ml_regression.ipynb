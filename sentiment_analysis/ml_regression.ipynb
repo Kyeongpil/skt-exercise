{
 "cells": [
  {
   "cell_type": "code",
   "execution_count": 8,
   "metadata": {
    "ExecuteTime": {
     "end_time": "2017-10-08T07:52:52.116174Z",
     "start_time": "2017-10-08T07:52:52.108519Z"
    },
    "collapsed": true
   },
   "outputs": [],
   "source": [
    "from konlpy.tag import Twitter\n",
    "from sklearn.preprocessing import normalize\n",
    "from sklearn.metrics import mean_absolute_error\n",
    "from sklearn.linear_model import LinearRegression\n",
    "from sklearn.linear_model import Ridge\n",
    "from sklearn.ensemble import GradientBoostingRegressor\n",
    "import numpy as np\n",
    "import pickle\n",
    "\n",
    "twitter = Twitter()"
   ]
  },
  {
   "cell_type": "code",
   "execution_count": 9,
   "metadata": {
    "ExecuteTime": {
     "end_time": "2017-10-08T07:52:52.802558Z",
     "start_time": "2017-10-08T07:52:52.507493Z"
    },
    "collapsed": true
   },
   "outputs": [],
   "source": [
    "with open(\"data_ml.pkl\", \"rb\") as f:\n",
    "    index2voca = pickle.load(f)\n",
    "    voca2index = pickle.load(f)\n",
    "    train_X = pickle.load(f)\n",
    "    train_y = pickle.load(f)\n",
    "    test_X = pickle.load(f)\n",
    "    test_y = pickle.load(f)\n",
    "\n",
    "train_X = normalize(train_X)\n",
    "test_X = normalize(test_X)\n",
    "\n",
    "vocaNum = len(index2voca)\n",
    "trainNum = len(train_y)\n",
    "testNum = len(test_y)"
   ]
  },
  {
   "cell_type": "code",
   "execution_count": 10,
   "metadata": {
    "ExecuteTime": {
     "end_time": "2017-10-08T07:53:40.515250Z",
     "start_time": "2017-10-08T07:52:52.907613Z"
    }
   },
   "outputs": [
    {
     "data": {
      "text/plain": [
       "LinearRegression(copy_X=True, fit_intercept=True, n_jobs=4, normalize=False)"
      ]
     },
     "execution_count": 10,
     "metadata": {},
     "output_type": "execute_result"
    }
   ],
   "source": [
    "# 약 1분\n",
    "linear_regression = LinearRegression(n_jobs=4)\n",
    "linear_regression.fit(train_X, train_y)"
   ]
  },
  {
   "cell_type": "code",
   "execution_count": 11,
   "metadata": {
    "ExecuteTime": {
     "end_time": "2017-10-08T07:53:40.545733Z",
     "start_time": "2017-10-08T07:53:40.516929Z"
    }
   },
   "outputs": [
    {
     "name": "stdout",
     "output_type": "stream",
     "text": [
      "mean absolute error: 0.18074595120515435\n",
      "predict: 0.25238490299536515\n"
     ]
    }
   ],
   "source": [
    "predicted = linear_regression.predict(test_X)\n",
    "print(\"mean absolute error: {}\".format(mean_absolute_error(test_y, predicted)))\n",
    "\n",
    "test_seq = \"이 영화 진짜 재미없다.\"\n",
    "test_vec = np.zeros((1, vocaNum))\n",
    "for i, w in enumerate(twitter.morphs(test_seq)):\n",
    "    test_vec[0, voca2index.get(w, voca2index['<UNK>'])] += 1\n",
    "\n",
    "test_vec = normalize(test_vec)\n",
    "print(\"predict: {}\".format(linear_regression.predict(test_vec)[0]))"
   ]
  },
  {
   "cell_type": "code",
   "execution_count": 12,
   "metadata": {
    "ExecuteTime": {
     "end_time": "2017-10-08T07:53:44.212298Z",
     "start_time": "2017-10-08T07:53:40.549116Z"
    }
   },
   "outputs": [
    {
     "name": "stdout",
     "output_type": "stream",
     "text": [
      "mean absolute error: 0.17737013451872596\n",
      "predict: 0.29018806302104627\n"
     ]
    }
   ],
   "source": [
    "ridge = Ridge()\n",
    "ridge.fit(train_X, train_y)\n",
    "predicted = ridge.predict(test_X)\n",
    "print(\"mean absolute error: {}\".format(mean_absolute_error(test_y, predicted)))\n",
    "\n",
    "test_seq = \"이 영화 완전 재미없다.\"\n",
    "test_vec = np.zeros((1, vocaNum))\n",
    "for i, w in enumerate(twitter.morphs(test_seq)):\n",
    "    test_vec[0, voca2index.get(w, voca2index['<UNK>'])] += 1\n",
    "\n",
    "test_vec = normalize(test_vec)\n",
    "print(\"predict: {}\".format(ridge.predict(test_vec)[0]))"
   ]
  },
  {
   "cell_type": "code",
   "execution_count": 13,
   "metadata": {
    "ExecuteTime": {
     "end_time": "2017-10-08T07:53:44.216625Z",
     "start_time": "2017-10-08T07:53:44.213512Z"
    },
    "collapsed": true
   },
   "outputs": [],
   "source": [
    "with open(\"ridge_regression.pkl\", 'wb') as f:\n",
    "    pickle.dump(ridge, f)"
   ]
  },
  {
   "cell_type": "code",
   "execution_count": 14,
   "metadata": {
    "ExecuteTime": {
     "end_time": "2017-10-08T07:55:29.172903Z",
     "start_time": "2017-10-08T07:53:44.218534Z"
    }
   },
   "outputs": [
    {
     "name": "stdout",
     "output_type": "stream",
     "text": [
      "mean absolute error: 0.23622443901614637\n"
     ]
    }
   ],
   "source": [
    "# 약 2분\n",
    "gb = GradientBoostingRegressor()\n",
    "gb.fit(train_X, train_y)\n",
    "predicted = gb.predict(test_X)\n",
    "print(\"mean absolute error: {}\".format(mean_absolute_error(test_y, predicted)))"
   ]
  },
  {
   "cell_type": "code",
   "execution_count": null,
   "metadata": {
    "collapsed": true
   },
   "outputs": [],
   "source": []
  }
 ],
 "metadata": {
  "kernelspec": {
   "display_name": "Python 3",
   "language": "python",
   "name": "python3"
  },
  "language_info": {
   "codemirror_mode": {
    "name": "ipython",
    "version": 3
   },
   "file_extension": ".py",
   "mimetype": "text/x-python",
   "name": "python",
   "nbconvert_exporter": "python",
   "pygments_lexer": "ipython3",
   "version": "3.6.5"
  },
  "varInspector": {
   "cols": {
    "lenName": 16,
    "lenType": 16,
    "lenVar": 40
   },
   "kernels_config": {
    "python": {
     "delete_cmd_postfix": "",
     "delete_cmd_prefix": "del ",
     "library": "var_list.py",
     "varRefreshCmd": "print(var_dic_list())"
    },
    "r": {
     "delete_cmd_postfix": ") ",
     "delete_cmd_prefix": "rm(",
     "library": "var_list.r",
     "varRefreshCmd": "cat(var_dic_list()) "
    }
   },
   "types_to_exclude": [
    "module",
    "function",
    "builtin_function_or_method",
    "instance",
    "_Feature"
   ],
   "window_display": false
  }
 },
 "nbformat": 4,
 "nbformat_minor": 2
}
