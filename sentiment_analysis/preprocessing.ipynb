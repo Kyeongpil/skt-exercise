{
 "cells": [
  {
   "cell_type": "code",
   "execution_count": 12,
   "metadata": {
    "ExecuteTime": {
     "end_time": "2017-10-08T07:55:26.921334Z",
     "start_time": "2017-10-08T07:55:26.908992Z"
    },
    "collapsed": true
   },
   "outputs": [],
   "source": [
    "from konlpy.tag import Twitter\n",
    "from glob import glob\n",
    "from collections import Counter\n",
    "from collections import defaultdict\n",
    "from random import shuffle\n",
    "from pprint import pprint\n",
    "from scipy.sparse import dok_matrix\n",
    "import numpy as np\n",
    "import ujson as json\n",
    "import pickle\n",
    "\n",
    "files = glob(\"crawledResult/*\")\n",
    "twitter = Twitter()"
   ]
  },
  {
   "cell_type": "code",
   "execution_count": 13,
   "metadata": {
    "ExecuteTime": {
     "end_time": "2017-10-08T07:55:28.020371Z",
     "start_time": "2017-10-08T07:55:27.396242Z"
    },
    "collapsed": true
   },
   "outputs": [],
   "source": [
    "with open(files[0]) as f:\n",
    "    movies = json.load(f)"
   ]
  },
  {
   "cell_type": "code",
   "execution_count": 14,
   "metadata": {
    "ExecuteTime": {
     "end_time": "2017-10-08T07:55:28.097802Z",
     "start_time": "2017-10-08T07:55:28.093328Z"
    }
   },
   "outputs": [
    {
     "data": {
      "text/plain": [
       "dict_keys(['ratings', 'code', 'title'])"
      ]
     },
     "execution_count": 14,
     "metadata": {},
     "output_type": "execute_result"
    }
   ],
   "source": [
    "movies[0].keys()"
   ]
  },
  {
   "cell_type": "code",
   "execution_count": 15,
   "metadata": {
    "ExecuteTime": {
     "end_time": "2017-10-08T07:55:30.102540Z",
     "start_time": "2017-10-08T07:55:30.097180Z"
    }
   },
   "outputs": [
    {
     "name": "stdout",
     "output_type": "stream",
     "text": [
      "배우들의 캐스팅도 좋고 내용도 재밌는 드라마.\n",
      "10\n"
     ]
    }
   ],
   "source": [
    "print(movies[12]['ratings'][0]['reple'])\n",
    "print(movies[12]['ratings'][0]['score'])"
   ]
  },
  {
   "cell_type": "code",
   "execution_count": 16,
   "metadata": {
    "ExecuteTime": {
     "end_time": "2017-10-08T07:55:30.721844Z",
     "start_time": "2017-10-08T07:55:30.689746Z"
    }
   },
   "outputs": [
    {
     "name": "stdout",
     "output_type": "stream",
     "text": [
      "['배우', '들', '의', '캐스팅', '도', '좋', '고', '내용', '도', '재밌는', '드라마', '.']\n"
     ]
    }
   ],
   "source": [
    "print(twitter.morphs(movies[12]['ratings'][0]['reple']))"
   ]
  },
  {
   "cell_type": "code",
   "execution_count": null,
   "metadata": {
    "ExecuteTime": {
     "end_time": "2017-10-08T07:56:16.522735Z",
     "start_time": "2017-10-08T07:55:31.789034Z"
    },
    "collapsed": true
   },
   "outputs": [],
   "source": [
    "max_length = 100\n",
    "ratingList = defaultdict(list)\n",
    "i = 0\n",
    "for file in files:\n",
    "    with open(file) as f:\n",
    "        movies = json.load(f)\n",
    "    for movie in movies:\n",
    "        ratings = movie['ratings']\n",
    "        for rating in ratings:\n",
    "            i += 1\n",
    "\n",
    "            reple = rating['reple']\n",
    "            score = (rating['score'] - 1) / 9\n",
    "            words = twitter.morphs(reple)\n",
    "            if len(words) <= max_length and len(words) > 1:\n",
    "                ratingList[score].append(words)\n",
    "                \n",
    "print(i)"
   ]
  },
  {
   "cell_type": "code",
   "execution_count": 11,
   "metadata": {
    "ExecuteTime": {
     "end_time": "2017-10-07T11:37:11.742971Z",
     "start_time": "2017-10-07T11:37:11.735965Z"
    }
   },
   "outputs": [
    {
     "name": "stdout",
     "output_type": "stream",
     "text": [
      "1.0 938145\n",
      "0.4444444444444444 63190\n",
      "0.7777777777777778 179862\n",
      "0.8888888888888888 211854\n",
      "0.6666666666666666 114473\n",
      "0.0 222550\n",
      "0.5555555555555556 78465\n",
      "0.2222222222222222 33409\n",
      "0.3333333333333333 36127\n",
      "0.1111111111111111 31485\n"
     ]
    }
   ],
   "source": [
    "minNum = min([len(l) for l in ratingList.values()])\n",
    "for key in ratingList:\n",
    "    print(\"{} {}\".format(key, len(ratingList[key])))"
   ]
  },
  {
   "cell_type": "code",
   "execution_count": 18,
   "metadata": {
    "ExecuteTime": {
     "end_time": "2017-10-07T12:16:19.434459Z",
     "start_time": "2017-10-07T12:16:15.791964Z"
    }
   },
   "outputs": [
    {
     "name": "stdout",
     "output_type": "stream",
     "text": [
      "93\n",
      "num_train: 251880, num_test: 62970\n"
     ]
    }
   ],
   "source": [
    "voca = Counter()\n",
    "dataset = []\n",
    "for score, reples in ratingList.items():\n",
    "    for reple in reples[:minNum]:\n",
    "        voca.update(reple)\n",
    "        dataset.append((score, reple))\n",
    "\n",
    "shuffle(dataset)\n",
    "\n",
    "max_seq = max([len(seq[1]) for seq in dataset])\n",
    "print(max_seq)\n",
    "\n",
    "num_data = len(dataset)\n",
    "num_train = int(num_data * 0.8)\n",
    "num_test = num_data - num_train\n",
    "print(\"num_train: {}, num_test: {}\".format(num_train, num_test))\n",
    "voca_num = 20000"
   ]
  },
  {
   "cell_type": "code",
   "execution_count": 19,
   "metadata": {
    "ExecuteTime": {
     "end_time": "2017-10-07T12:18:34.659027Z",
     "start_time": "2017-10-07T12:16:19.436515Z"
    },
    "collapsed": true
   },
   "outputs": [],
   "source": [
    "index2voca = [v[0] for v in voca.most_common(voca_num - 1)]\n",
    "index2voca.append('<UNK>')\n",
    "voca2index = {v: i for i, v in enumerate(index2voca)}\n",
    "\n",
    "dataset_X = dok_matrix((num_data, voca_num), dtype=np.int32)\n",
    "dataset_y = np.zeros(num_data, dtype=np.float32)\n",
    "\n",
    "for i, data in enumerate(dataset):\n",
    "    dataset_y[i] = data[0]\n",
    "    for j, word in enumerate(data[1]):\n",
    "        dataset_X[i, voca2index.get(word, voca2index['<UNK>'])] += 1\n",
    "\n",
    "dataset_X = dataset_X.tocsr()\n",
    "\n",
    "train_X = dataset_X[:num_train]\n",
    "train_y = dataset_y[:num_train]\n",
    "test_X = dataset_X[num_train:]\n",
    "test_y = dataset_y[num_train:]\n",
    "\n",
    "with open(\"data_ml.pkl\", \"wb\") as f:\n",
    "    pickle.dump(index2voca, f)\n",
    "    pickle.dump(voca2index, f)\n",
    "    pickle.dump(train_X, f)\n",
    "    pickle.dump(train_y, f)\n",
    "    pickle.dump(test_X, f)\n",
    "    pickle.dump(test_y, f)"
   ]
  },
  {
   "cell_type": "code",
   "execution_count": 20,
   "metadata": {
    "ExecuteTime": {
     "end_time": "2017-10-07T12:18:37.663851Z",
     "start_time": "2017-10-07T12:18:34.660462Z"
    },
    "collapsed": true
   },
   "outputs": [],
   "source": [
    "index2voca = [v[0] for v in voca.most_common(voca_num - 2)]\n",
    "index2voca.append('<UNK>')\n",
    "index2voca.insert(0, '<PAD>')\n",
    "voca2index = {v: i for i, v in enumerate(index2voca)}\n",
    "\n",
    "max_len = 100\n",
    "dataset_X = np.zeros((num_data, max_len), dtype=np.int32)\n",
    "dataset_y = np.zeros(num_data, dtype=np.float32)\n",
    "\n",
    "for i, data in enumerate(dataset):\n",
    "    dataset_y[i] = data[0]\n",
    "    for j, word in enumerate(data[1]):\n",
    "        dataset_X[i, j] = voca2index.get(word, voca2index['<UNK>'])\n",
    "\n",
    "train_X = dataset_X[:num_train]\n",
    "train_y = dataset_y[:num_train]\n",
    "test_X = dataset_X[num_train:]\n",
    "test_y = dataset_y[num_train:]\n",
    "\n",
    "with open(\"data_deep.pkl\", \"wb\") as f:\n",
    "    pickle.dump(index2voca, f)\n",
    "    pickle.dump(voca2index, f)\n",
    "    pickle.dump(train_X, f)\n",
    "    pickle.dump(train_y, f)\n",
    "    pickle.dump(test_X, f)\n",
    "    pickle.dump(test_y, f)"
   ]
  },
  {
   "cell_type": "code",
   "execution_count": null,
   "metadata": {
    "collapsed": true
   },
   "outputs": [],
   "source": []
  }
 ],
 "metadata": {
  "anaconda-cloud": {},
  "kernelspec": {
   "display_name": "Python 3",
   "language": "python",
   "name": "python3"
  },
  "language_info": {
   "codemirror_mode": {
    "name": "ipython",
    "version": 3
   },
   "file_extension": ".py",
   "mimetype": "text/x-python",
   "name": "python",
   "nbconvert_exporter": "python",
   "pygments_lexer": "ipython3",
   "version": "3.6.3"
  },
  "varInspector": {
   "cols": {
    "lenName": 16,
    "lenType": 16,
    "lenVar": 40
   },
   "kernels_config": {
    "python": {
     "delete_cmd_postfix": "",
     "delete_cmd_prefix": "del ",
     "library": "var_list.py",
     "varRefreshCmd": "print(var_dic_list())"
    },
    "r": {
     "delete_cmd_postfix": ") ",
     "delete_cmd_prefix": "rm(",
     "library": "var_list.r",
     "varRefreshCmd": "cat(var_dic_list()) "
    }
   },
   "types_to_exclude": [
    "module",
    "function",
    "builtin_function_or_method",
    "instance",
    "_Feature"
   ],
   "window_display": false
  }
 },
 "nbformat": 4,
 "nbformat_minor": 1
}
