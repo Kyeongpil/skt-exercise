{
 "cells": [
  {
   "cell_type": "code",
   "execution_count": 1,
   "metadata": {
    "ExecuteTime": {
     "end_time": "2018-05-25T05:47:58.151302Z",
     "start_time": "2018-05-25T05:47:57.351759Z"
    }
   },
   "outputs": [],
   "source": [
    "from konlpy.tag import Twitter\n",
    "from ipywidgets import FloatProgress\n",
    "from IPython.display import display\n",
    "from torch.autograd import Variable\n",
    "from torch.utils.data import TensorDataset\n",
    "from torch.utils.data import DataLoader\n",
    "from torch.nn.utils import clip_grad_norm\n",
    "from torch.nn import functional as F\n",
    "from torch import nn\n",
    "import pickle\n",
    "import torch\n",
    "import os\n",
    "\n",
    "twitter = Twitter()\n",
    "if not os.path.exists(\"./data\"):\n",
    "    os.mkdir(\"./data\")"
   ]
  },
  {
   "cell_type": "code",
   "execution_count": 4,
   "metadata": {
    "ExecuteTime": {
     "end_time": "2018-05-25T06:14:53.539585Z",
     "start_time": "2018-05-25T06:14:53.292700Z"
    }
   },
   "outputs": [],
   "source": [
    "with open(\"data/data_deep.pkl\", \"rb\") as f:\n",
    "    index2voca = pickle.load(f)\n",
    "    voca2index = pickle.load(f)\n",
    "    train_X = pickle.load(f)\n",
    "    train_y = pickle.load(f)\n",
    "    test_X = pickle.load(f)\n",
    "    test_y = pickle.load(f)\n",
    "\n",
    "vocaNum = len(index2voca)\n",
    "trainNum = len(train_y)\n",
    "testNum = len(test_y)\n",
    "\n",
    "embedding_dim = 200\n",
    "hidden_size = 200\n",
    "num_layer = 2\n",
    "bidirectional = True\n",
    "epoch = 10\n",
    "batch_size = 32\n",
    "print_iter = 2000\n",
    "\n",
    "mode = 'CPU'"
   ]
  },
  {
   "cell_type": "code",
   "execution_count": 5,
   "metadata": {
    "ExecuteTime": {
     "end_time": "2018-05-25T06:15:05.206314Z",
     "start_time": "2018-05-25T06:15:05.192832Z"
    }
   },
   "outputs": [
    {
     "data": {
      "text/plain": [
       "array([[  220,   225,   125, ...,     0,     0,     0],\n",
       "       [  248,  2673,    89, ...,     0,     0,     0],\n",
       "       [  754, 19999, 19999, ...,     0,     0,     0],\n",
       "       ...,\n",
       "       [ 8389,     2,   716, ...,     0,     0,     0],\n",
       "       [  758,     4,    43, ...,     0,     0,     0],\n",
       "       [    3,   126,    26, ...,     0,     0,     0]], dtype=int32)"
      ]
     },
     "execution_count": 5,
     "metadata": {},
     "output_type": "execute_result"
    }
   ],
   "source": [
    "train_X"
   ]
  },
  {
   "cell_type": "code",
   "execution_count": 59,
   "metadata": {
    "ExecuteTime": {
     "end_time": "2017-10-07T13:48:30.248711Z",
     "start_time": "2017-10-07T13:48:30.172894Z"
    },
    "collapsed": true
   },
   "outputs": [],
   "source": [
    "train_X = torch.from_numpy(train_X).long()\n",
    "train_y = torch.from_numpy(train_y).view(-1, 1)\n",
    "test_X = torch.from_numpy(test_X).long()\n",
    "test_y = torch.from_numpy(test_y).view(-1, 1)\n",
    "\n",
    "train = TensorDataset(train_X, train_y)\n",
    "train_loader = DataLoader(train, batch_size=batch_size, shuffle=True, num_workers=1)\n",
    "test = TensorDataset(test_X, test_y)\n",
    "test_loader = DataLoader(test, batch_size=batch_size, shuffle=True)"
   ]
  },
  {
   "cell_type": "code",
   "execution_count": 7,
   "metadata": {
    "ExecuteTime": {
     "end_time": "2018-05-25T06:17:37.966900Z",
     "start_time": "2018-05-25T06:17:37.954294Z"
    }
   },
   "outputs": [],
   "source": [
    "class RNNReg(nn.Module):\n",
    "    def __init__(self, num_layer=2, hidden_size=200, bidirectional=True):\n",
    "        super(RNNReg, self).__init__()\n",
    "        self.num_layer = num_layer\n",
    "        self.hidden_size = hidden_size\n",
    "        self.bidirectional = bidirectional\n",
    "        self.linear_dim1 = (\n",
    "            int(self.bidirectional) + 1) * num_layer * self.hidden_size\n",
    "        self.linear_dim2 = 10\n",
    "        self.embedding = nn.Embedding(vocaNum, embedding_dim, padding_idx=0)\n",
    "        self.gru = nn.GRU(\n",
    "            input_size=embedding_dim,\n",
    "            hidden_size=self.hidden_size,\n",
    "            num_layers=self.num_layer,\n",
    "            batch_first=True,\n",
    "            bidirectional=self.bidirectional)\n",
    "        self.fc1 = nn.Linear(\n",
    "            in_features=self.linear_dim1, out_features=self.linear_dim2)\n",
    "        self.fc2 = nn.Linear(in_features=self.linear_dim2, out_features=1)\n",
    "        self.dropout = nn.Dropout()\n",
    "\n",
    "    def forward(self, x):\n",
    "        x = self.embedding(x)\n",
    "        _, hidden = self.gru(x)\n",
    "        output = hidden.permute(1, 0, 2).contiguous()\n",
    "        output = output.view(-1, self.linear_dim1)\n",
    "        output = F.relu(self.fc1(output))\n",
    "        output = self.dropout(output)\n",
    "        output = self.fc2(output)\n",
    "        return output"
   ]
  },
  {
   "cell_type": "code",
   "execution_count": 80,
   "metadata": {
    "ExecuteTime": {
     "end_time": "2017-10-08T05:40:56.464709Z",
     "start_time": "2017-10-08T05:40:56.137561Z"
    }
   },
   "outputs": [
    {
     "name": "stdout",
     "output_type": "stream",
     "text": [
      "RNNReg (\n",
      "  (embedding): Embedding(20000, 200, padding_idx=0)\n",
      "  (gru): GRU(200, 200, num_layers=2, batch_first=True, bidirectional=True)\n",
      "  (fc1): Linear (800 -> 10)\n",
      "  (fc2): Linear (10 -> 1)\n",
      "  (dropout): Dropout (p = 0.5)\n",
      ")\n"
     ]
    }
   ],
   "source": [
    "reg = RNNReg(num_layer, hidden_size, bidirectional)\n",
    "if mode == 'GPU':\n",
    "    reg.cuda()\n",
    "print(reg)\n",
    "\n",
    "criterion = nn.MSELoss()\n",
    "opt = torch.optim.Adadelta(reg.parameters())"
   ]
  },
  {
   "cell_type": "code",
   "execution_count": null,
   "metadata": {
    "ExecuteTime": {
     "start_time": "2017-10-08T05:40:56.839Z"
    },
    "scrolled": true
   },
   "outputs": [],
   "source": [
    "num_iter = int(trainNum / batch_size)\n",
    "print(f\"num_iter: {num_iter}\")\n",
    "f = FloatProgress(min=0, max=print_iter)\n",
    "display(f)\n",
    "\n",
    "for e in range(epoch):\n",
    "    for i, (batch_X, batch_y) in enumerate(train_loader):\n",
    "        f.value += 1\n",
    "        \n",
    "        if mode == 'GPU':\n",
    "            batch_X = Variable(batch_X).cuda()\n",
    "            batch_y = Variable(batch_y).cuda()\n",
    "        else:\n",
    "            batch_X = Variable(batch_X)\n",
    "            batch_y = Variable(batch_y)\n",
    "        \n",
    "        predict = reg(batch_X)\n",
    "        \n",
    "        opt.zero_grad()\n",
    "        loss = criterion(predict, batch_y)\n",
    "        loss.backward()\n",
    "        clip_grad_norm(reg.parameters(), 0.5)\n",
    "        opt.step()\n",
    "\n",
    "        if i % print_iter == 0 or i == num_iter - 1:\n",
    "            f.value = 0\n",
    "            print(\"batch: {}, iteration: {}, loss: {}\\n\".format(e, i, loss.data.mean()))\n",
    "            \n",
    "torch.save(reg.state_dict(), 'data/rnn_regression.pkl')"
   ]
  },
  {
   "cell_type": "code",
   "execution_count": 82,
   "metadata": {
    "ExecuteTime": {
     "end_time": "2017-10-08T06:37:58.796604Z",
     "start_time": "2017-10-08T06:37:37.010705Z"
    }
   },
   "outputs": [
    {
     "data": {
      "application/vnd.jupyter.widget-view+json": {
       "model_id": "b8190e48df324239861e78954d7b8042"
      }
     },
     "metadata": {},
     "output_type": "display_data"
    },
    {
     "name": "stdout",
     "output_type": "stream",
     "text": [
      "test error(MAE): 0.1876827024555958\n"
     ]
    }
   ],
   "source": [
    "criterion = nn.L1Loss()\n",
    "average_loss = 0\n",
    "num_iter = int(testNum / batch_size)\n",
    "f = FloatProgress(min=0, max=num_iter)\n",
    "display(f)\n",
    "for i, (batch_X, batch_y) in enumerate(test_loader):\n",
    "    f.value += 1\n",
    "    \n",
    "    if mode == 'GPU':\n",
    "        batch_X = Variable(batch_X).cuda()\n",
    "        batch_y = Variable(batch_y).cuda()\n",
    "    else:\n",
    "        batch_X = Variable(batch_X)\n",
    "        batch_y = Variable(batch_y)\n",
    "\n",
    "    predict = reg(batch_X)\n",
    "    loss = criterion(predict, batch_y)\n",
    "    average_loss += loss.data.mean()\n",
    "\n",
    "average_loss /= num_iter\n",
    "print(\"test error(MAE): {}\".format(average_loss))"
   ]
  },
  {
   "cell_type": "code",
   "execution_count": 8,
   "metadata": {
    "ExecuteTime": {
     "end_time": "2018-05-25T06:17:41.244366Z",
     "start_time": "2018-05-25T06:17:41.099853Z"
    }
   },
   "outputs": [],
   "source": [
    "reg = RNNReg()\n",
    "\n",
    "if mode == 'CPU':\n",
    "    reg.load_state_dict(torch.load(\"data/rnn_regression.pkl\", map_location=lambda storage, loc: storage))\n",
    "else:\n",
    "    reg.load_state_dict(torch.load(\"data/rnn_regression.pkl\"))"
   ]
  },
  {
   "cell_type": "code",
   "execution_count": 9,
   "metadata": {
    "ExecuteTime": {
     "end_time": "2018-05-25T06:17:49.046130Z",
     "start_time": "2018-05-25T06:17:49.037753Z"
    }
   },
   "outputs": [
    {
     "data": {
      "text/plain": [
       "RNNReg(\n",
       "  (embedding): Embedding(20000, 200, padding_idx=0)\n",
       "  (gru): GRU(200, 200, num_layers=2, batch_first=True, bidirectional=True)\n",
       "  (fc1): Linear(in_features=800, out_features=10, bias=True)\n",
       "  (fc2): Linear(in_features=10, out_features=1, bias=True)\n",
       "  (dropout): Dropout(p=0.5)\n",
       ")"
      ]
     },
     "execution_count": 9,
     "metadata": {},
     "output_type": "execute_result"
    }
   ],
   "source": [
    "reg"
   ]
  },
  {
   "cell_type": "code",
   "execution_count": 11,
   "metadata": {
    "ExecuteTime": {
     "end_time": "2018-05-25T06:18:26.937571Z",
     "start_time": "2018-05-25T06:18:26.782535Z"
    }
   },
   "outputs": [
    {
     "name": "stdout",
     "output_type": "stream",
     "text": [
      "predicted: 0.504909098148346\n"
     ]
    }
   ],
   "source": [
    "reg.eval()\n",
    "test_seq = u\"영화는 재밌는데 배우 연기가 별로다\"\n",
    "test_vec = torch.zeros(1, train_X.shape[1]).long()\n",
    "for i, w in enumerate(twitter.morphs(test_seq)):\n",
    "    test_vec[0, i] = voca2index.get(w, voca2index['<UNK>'])\n",
    "\n",
    "test_vec = Variable(test_vec)\n",
    "predict = reg(test_vec)\n",
    "print(\"predicted: {}\".format(predict.data.tolist()[0][0]))"
   ]
  },
  {
   "cell_type": "code",
   "execution_count": 12,
   "metadata": {
    "ExecuteTime": {
     "end_time": "2018-05-25T06:18:45.927247Z",
     "start_time": "2018-05-25T06:18:45.765727Z"
    }
   },
   "outputs": [
    {
     "name": "stdout",
     "output_type": "stream",
     "text": [
      "predicted: 0.6298822164535522\n"
     ]
    }
   ],
   "source": [
    "reg.eval()\n",
    "test_seq = u\"배우 연기가 별로인데 영화는 재밌다\"\n",
    "test_vec = torch.zeros(1, train_X.shape[1]).long()\n",
    "for i, w in enumerate(twitter.morphs(test_seq)):\n",
    "    test_vec[0, i] = voca2index.get(w, voca2index['<UNK>'])\n",
    "\n",
    "test_vec = Variable(test_vec)\n",
    "predict = reg(test_vec)\n",
    "print(\"predicted: {}\".format(predict.data.tolist()[0][0]))"
   ]
  },
  {
   "cell_type": "code",
   "execution_count": null,
   "metadata": {},
   "outputs": [],
   "source": []
  }
 ],
 "metadata": {
  "kernelspec": {
   "display_name": "Python 3",
   "language": "python",
   "name": "python3"
  },
  "language_info": {
   "codemirror_mode": {
    "name": "ipython",
    "version": 3
   },
   "file_extension": ".py",
   "mimetype": "text/x-python",
   "name": "python",
   "nbconvert_exporter": "python",
   "pygments_lexer": "ipython3",
   "version": "3.6.5"
  },
  "varInspector": {
   "cols": {
    "lenName": 16,
    "lenType": 16,
    "lenVar": 40
   },
   "kernels_config": {
    "python": {
     "delete_cmd_postfix": "",
     "delete_cmd_prefix": "del ",
     "library": "var_list.py",
     "varRefreshCmd": "print(var_dic_list())"
    },
    "r": {
     "delete_cmd_postfix": ") ",
     "delete_cmd_prefix": "rm(",
     "library": "var_list.r",
     "varRefreshCmd": "cat(var_dic_list()) "
    }
   },
   "types_to_exclude": [
    "module",
    "function",
    "builtin_function_or_method",
    "instance",
    "_Feature"
   ],
   "window_display": false
  }
 },
 "nbformat": 4,
 "nbformat_minor": 2
}
