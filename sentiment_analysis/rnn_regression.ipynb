{
 "cells": [
  {
   "cell_type": "code",
   "execution_count": 64,
   "metadata": {
    "ExecuteTime": {
     "end_time": "2017-10-07T17:50:53.735389Z",
     "start_time": "2017-10-07T17:50:53.722730Z"
    },
    "collapsed": true
   },
   "outputs": [],
   "source": [
    "from konlpy.tag import Twitter\n",
    "from ipywidgets import FloatProgress\n",
    "from IPython.display import display\n",
    "from torch.autograd import Variable\n",
    "from torch.utils.data import TensorDataset\n",
    "from torch.utils.data import DataLoader\n",
    "from torch.nn.utils import clip_grad_norm\n",
    "from torch.nn import functional as F\n",
    "from torch import nn\n",
    "import pickle\n",
    "import torch\n",
    "import os\n",
    "\n",
    "twitter = Twitter()\n",
    "if not os.path.exists(\"./data\"):\n",
    "    os.mkdir(\"./data\")"
   ]
  },
  {
   "cell_type": "code",
   "execution_count": 58,
   "metadata": {
    "ExecuteTime": {
     "end_time": "2017-10-07T13:48:29.708340Z",
     "start_time": "2017-10-07T13:48:29.589230Z"
    },
    "collapsed": true
   },
   "outputs": [],
   "source": [
    "with open(\"data/data_deep.pkl\", \"rb\") as f:\n",
    "    index2voca = pickle.load(f)\n",
    "    voca2index = pickle.load(f)\n",
    "    train_X = pickle.load(f)\n",
    "    train_y = pickle.load(f)\n",
    "    test_X = pickle.load(f)\n",
    "    test_y = pickle.load(f)\n",
    "\n",
    "vocaNum = len(index2voca)\n",
    "trainNum = len(train_y)\n",
    "testNum = len(test_y)\n",
    "\n",
    "embedding_dim = 200\n",
    "hidden_size = 200\n",
    "num_layer = 2\n",
    "bidirectional = True\n",
    "epoch = 10\n",
    "batch_size = 32\n",
    "print_iter = 2000\n",
    "\n",
    "mode = 'CPU'"
   ]
  },
  {
   "cell_type": "code",
   "execution_count": 59,
   "metadata": {
    "ExecuteTime": {
     "end_time": "2017-10-07T13:48:30.248711Z",
     "start_time": "2017-10-07T13:48:30.172894Z"
    },
    "collapsed": true
   },
   "outputs": [],
   "source": [
    "train_X = torch.from_numpy(train_X).long()\n",
    "train_y = torch.from_numpy(train_y).view(-1, 1)\n",
    "test_X = torch.from_numpy(test_X).long()\n",
    "test_y = torch.from_numpy(test_y).view(-1, 1)\n",
    "\n",
    "train = TensorDataset(train_X, train_y)\n",
    "train_loader = DataLoader(train, batch_size=batch_size, shuffle=True, num_workers=1)\n",
    "test = TensorDataset(test_X, test_y)\n",
    "test_loader = DataLoader(test, batch_size=batch_size, shuffle=True)"
   ]
  },
  {
   "cell_type": "code",
   "execution_count": 79,
   "metadata": {
    "ExecuteTime": {
     "end_time": "2017-10-08T05:40:55.518505Z",
     "start_time": "2017-10-08T05:40:55.484150Z"
    },
    "collapsed": true
   },
   "outputs": [],
   "source": [
    "class RNNReg(nn.Module):\n",
    "    def __init__(self, num_layer=2, hidden_size=200, bidirectional=True):\n",
    "        super(RNNReg, self).__init__()\n",
    "        self.num_layer = num_layer\n",
    "        self.hidden_size = hidden_size\n",
    "        self.bidirectional = bidirectional\n",
    "        self.linear_dim1 = (\n",
    "            int(self.bidirectional) + 1) * num_layer * self.hidden_size\n",
    "        self.linear_dim2 = 10\n",
    "        self.embedding = nn.Embedding(vocaNum, embedding_dim, padding_idx=0)\n",
    "        self.gru = nn.GRU(\n",
    "            input_size=embedding_dim,\n",
    "            hidden_size=self.hidden_size,\n",
    "            num_layers=self.num_layer,\n",
    "            batch_first=True,\n",
    "            bidirectional=self.bidirectional)\n",
    "        self.fc1 = nn.Linear(\n",
    "            in_features=self.linear_dim1, out_features=self.linear_dim2)\n",
    "        self.fc2 = nn.Linear(in_features=self.linear_dim2, out_features=1)\n",
    "        self.dropout = nn.Dropout()\n",
    "\n",
    "    def forward(self, x):\n",
    "        x = self.embedding(x)\n",
    "        _, hidden = self.gru(x)\n",
    "        output = hidden.permute(1, 0, 2).contiguous()\n",
    "        output = output.view(-1, self.linear_dim1)\n",
    "        output = F.relu(self.fc1(output))\n",
    "        output = self.dropout(output)\n",
    "        output = self.fc2(output)\n",
    "        return output"
   ]
  },
  {
   "cell_type": "code",
   "execution_count": 80,
   "metadata": {
    "ExecuteTime": {
     "end_time": "2017-10-08T05:40:56.464709Z",
     "start_time": "2017-10-08T05:40:56.137561Z"
    }
   },
   "outputs": [
    {
     "name": "stdout",
     "output_type": "stream",
     "text": [
      "RNNReg (\n",
      "  (embedding): Embedding(20000, 200, padding_idx=0)\n",
      "  (gru): GRU(200, 200, num_layers=2, batch_first=True, bidirectional=True)\n",
      "  (fc1): Linear (800 -> 10)\n",
      "  (fc2): Linear (10 -> 1)\n",
      "  (dropout): Dropout (p = 0.5)\n",
      ")\n"
     ]
    }
   ],
   "source": [
    "reg = RNNReg(num_layer, hidden_size, bidirectional)\n",
    "if mode == 'GPU':\n",
    "    reg.cuda()\n",
    "print(reg)\n",
    "\n",
    "criterion = nn.MSELoss()\n",
    "opt = torch.optim.Adadelta(reg.parameters())"
   ]
  },
  {
   "cell_type": "code",
   "execution_count": null,
   "metadata": {
    "ExecuteTime": {
     "start_time": "2017-10-08T05:40:56.839Z"
    },
    "scrolled": true
   },
   "outputs": [],
   "source": [
    "num_iter = int(trainNum / batch_size)\n",
    "print(f\"num_iter: {num_iter}\")\n",
    "f = FloatProgress(min=0, max=print_iter)\n",
    "display(f)\n",
    "\n",
    "for e in range(epoch):\n",
    "    for i, (batch_X, batch_y) in enumerate(train_loader):\n",
    "        f.value += 1\n",
    "        \n",
    "        if mode == 'GPU':\n",
    "            batch_X = Variable(batch_X).cuda()\n",
    "            batch_y = Variable(batch_y).cuda()\n",
    "        else:\n",
    "            batch_X = Variable(batch_X)\n",
    "            batch_y = Variable(batch_y)\n",
    "        \n",
    "        predict = reg(batch_X)\n",
    "        \n",
    "        opt.zero_grad()\n",
    "        loss = criterion(predict, batch_y)\n",
    "        loss.backward()\n",
    "        clip_grad_norm(reg.parameters(), 0.5)\n",
    "        opt.step()\n",
    "\n",
    "        if i % print_iter == 0 or i == num_iter - 1:\n",
    "            f.value = 0\n",
    "            print(\"batch: {}, iteration: {}, loss: {}\\n\".format(e, i, loss.data.mean()))\n",
    "            \n",
    "torch.save(reg.state_dict(), 'data/rnn_regression.pkl')"
   ]
  },
  {
   "cell_type": "code",
   "execution_count": 82,
   "metadata": {
    "ExecuteTime": {
     "end_time": "2017-10-08T06:37:58.796604Z",
     "start_time": "2017-10-08T06:37:37.010705Z"
    }
   },
   "outputs": [
    {
     "data": {
      "application/vnd.jupyter.widget-view+json": {
       "model_id": "b8190e48df324239861e78954d7b8042"
      }
     },
     "metadata": {},
     "output_type": "display_data"
    },
    {
     "name": "stdout",
     "output_type": "stream",
     "text": [
      "test error(MAE): 0.1876827024555958\n"
     ]
    }
   ],
   "source": [
    "criterion = nn.L1Loss()\n",
    "average_loss = 0\n",
    "num_iter = int(testNum / batch_size)\n",
    "f = FloatProgress(min=0, max=num_iter)\n",
    "display(f)\n",
    "for i, (batch_X, batch_y) in enumerate(test_loader):\n",
    "    f.value += 1\n",
    "    \n",
    "    if mode == 'GPU':\n",
    "        batch_X = Variable(batch_X).cuda()\n",
    "        batch_y = Variable(batch_y).cuda()\n",
    "    else:\n",
    "        batch_X = Variable(batch_X)\n",
    "        batch_y = Variable(batch_y)\n",
    "\n",
    "    predict = reg(batch_X)\n",
    "    loss = criterion(predict, batch_y)\n",
    "    average_loss += loss.data.mean()\n",
    "\n",
    "average_loss /= num_iter\n",
    "print(\"test error(MAE): {}\".format(average_loss))"
   ]
  },
  {
   "cell_type": "code",
   "execution_count": null,
   "metadata": {
    "collapsed": true
   },
   "outputs": [],
   "source": [
    "reg = RNNReg()\n",
    "\n",
    "if mode == 'CPU':\n",
    "    reg.load_state_dict(torch.load(\"data/rnn_regression.pkl\", map_location=lambda storage, loc: storage))\n",
    "else:\n",
    "    reg.load_state_dict(torch.load(\"data/rnn_regression.pkl\"))"
   ]
  },
  {
   "cell_type": "code",
   "execution_count": 75,
   "metadata": {
    "ExecuteTime": {
     "end_time": "2017-10-08T04:39:00.806116Z",
     "start_time": "2017-10-08T04:39:00.774328Z"
    }
   },
   "outputs": [
    {
     "name": "stdout",
     "output_type": "stream",
     "text": [
      "predicted: 0.271027147769928\n"
     ]
    }
   ],
   "source": [
    "reg.eval()\n",
    "test_seq = u\"팝콘 소리 때문에 집중이 안됐다 ㅡㅡ\"\n",
    "test_vec = torch.zeros(1, train_X.shape[1]).long()\n",
    "for i, w in enumerate(twitter.morphs(test_seq)):\n",
    "    test_vec[0, i] = voca2index.get(w, voca2index['<UNK>'])\n",
    "\n",
    "test_vec = Variable(test_vec)\n",
    "predict = reg(test_vec)\n",
    "print(\"predicted: {}\".format(predict.data.tolist()[0][0]))"
   ]
  },
  {
   "cell_type": "code",
   "execution_count": null,
   "metadata": {
    "collapsed": true
   },
   "outputs": [],
   "source": []
  }
 ],
 "metadata": {
  "kernelspec": {
   "display_name": "Python 3",
   "language": "python",
   "name": "python3"
  },
  "language_info": {
   "codemirror_mode": {
    "name": "ipython",
    "version": 3
   },
   "file_extension": ".py",
   "mimetype": "text/x-python",
   "name": "python",
   "nbconvert_exporter": "python",
   "pygments_lexer": "ipython3",
   "version": "3.6.5"
  },
  "varInspector": {
   "cols": {
    "lenName": 16,
    "lenType": 16,
    "lenVar": 40
   },
   "kernels_config": {
    "python": {
     "delete_cmd_postfix": "",
     "delete_cmd_prefix": "del ",
     "library": "var_list.py",
     "varRefreshCmd": "print(var_dic_list())"
    },
    "r": {
     "delete_cmd_postfix": ") ",
     "delete_cmd_prefix": "rm(",
     "library": "var_list.r",
     "varRefreshCmd": "cat(var_dic_list()) "
    }
   },
   "types_to_exclude": [
    "module",
    "function",
    "builtin_function_or_method",
    "instance",
    "_Feature"
   ],
   "window_display": false
  }
 },
 "nbformat": 4,
 "nbformat_minor": 2
}
