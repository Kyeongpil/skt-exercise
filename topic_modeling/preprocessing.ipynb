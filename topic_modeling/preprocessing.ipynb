{
 "cells": [
  {
   "cell_type": "code",
   "execution_count": 18,
   "metadata": {
    "ExecuteTime": {
     "end_time": "2018-05-25T04:07:27.312837Z",
     "start_time": "2018-05-25T04:07:27.305586Z"
    }
   },
   "outputs": [],
   "source": [
    "from konlpy.tag import Twitter\n",
    "from sklearn.preprocessing import normalize\n",
    "from scipy.sparse import dok_matrix\n",
    "from collections import Counter\n",
    "from random import shuffle\n",
    "import numpy as np\n",
    "import json\n",
    "import pickle\n",
    "\n",
    "twitter = Twitter()"
   ]
  },
  {
   "cell_type": "code",
   "execution_count": 21,
   "metadata": {
    "ExecuteTime": {
     "end_time": "2018-05-25T04:07:37.825323Z",
     "start_time": "2018-05-25T04:07:32.392173Z"
    }
   },
   "outputs": [],
   "source": [
    "with open(\"data/2017_03.json\") as f:\n",
    "    data = json.load(f)\n",
    "\n",
    "shuffle(data)\n",
    "data = data[:10000]"
   ]
  },
  {
   "cell_type": "code",
   "execution_count": 23,
   "metadata": {
    "ExecuteTime": {
     "end_time": "2018-05-25T04:07:59.054667Z",
     "start_time": "2018-05-25T04:07:59.046608Z"
    }
   },
   "outputs": [
    {
     "data": {
      "text/plain": [
       "{'date': '2017-03-06',\n",
       " 'text': '특검 최종 수사결과 발표\\n\\n야당 \"검찰, 남은 과제 철저히 수사해야\"\\n\\n친박 자유한국당 \"여론 편승 수사결과\" 비난\\n\\n‘박근혜 게이트’를 수사한 박영수 특별검사팀이 6일 박근혜 대통령이 전면 부인해온, ‘비선실세’ 최순실씨와의 공모를 통해 뇌물을 수수한 혐의 등을 사실로 판단한 최종 수사결과를 발표했다.\\n\\n이에 대해 야당들은 일제히 박 대통령을 비판하며 향후 특검의 수사를 이어갈 검찰에 박 대통령의 대면조사, 세월호 7시간 등에 대한 공정한 수사를 당부했다. 반면 ‘친박당’ 자유한국당은 “편향된 여론에 편승한 언론플레이”라고 비난했다.\\n\\n고용진 더불어민주당 대변인은 이날 국회 브리핑에서 “최순실과 비선실세들이 사익을 위해 국정을 농단했고 최순실과 박 대통령은 공범임이 명명백백하게 드러났다”며 “이는 끝이 아닌 진실 규명의 새로운 시작이 되어야 한다”고 밝혔다.\\n\\n고 대변인은 “황교안 권한대행의 거부로 특검팀의 수사기간이 만료돼 삼성을 제외한 재벌대기업의 정경유착, 우병우 전 민정수석과 문고리 권력에 대한 수사는 결국 미완의 과제로 남겨졌다”며 “검찰이 특검팀의 수사를 이어받아 남은 과제들을 제대로 수사하지 못한다면 검찰에 대한 국민적 회의와 불신은 걷잡을 수 없이 확산될 것”이라고 경고했다.\\n\\n또한 “자신의 약속을 뒤집고 대면 조사를 거부하는 등 조직적으로 특검수사를 방해한 박근혜 대통령과 청와대의 행태는 결코 용서받지 못할 것”이라며 “검찰은 특검이 하지 못했던 청와대에 대한 압수수색과 박 대통령에 대한 대면조사를 즉각 추진해야 한다”고 촉구했다.\\n\\n장진영 국민의당 대변인도 논평을 내고 특검의 성과를 긍정적으로 평가하면서도 “황교안 총리의 특검연장 불승인, 정세균 의장의 특검법 개정안 직권상정 거부로 대통령 대면조사, 우병우 구속, 롯데, CJ 수사 등 특검수사의 화룡점정을 찍지 못한 것이 무엇보다 아쉬울 뿐”이라고 밝혔다.\\n\\n장 대변인은 “마무리는 검찰, 법원, 헌법재판소, 그리고 정치권이 해야 한다”고 강조했다.\\n\\n그는 “검찰은 특검이 이관한 우병우 민정수석 비리, 정유라 관련 문제, 최순실의 재산 형성에 대한 엄정한 수사로 실추된 명예를 회복해야 한다”며 “법원도 국정농단의 주범들이 법에 따라 처벌될 수 있도록 소임을 다해야 한다”고 했다.\\n\\n특검의 수사기간 연장 여부, 수사대상의 수사 방해에 대한 법적조치 등 제도적 개선의 필요성도 지적됐다.\\n\\n추혜선 정의당 대변인은 국회 브리핑에서 “특검이 지적한 바와 같이 향후에는 수사연장 여부를 특검 스스로 결정하도록 하며, 사안의 심각성과 경중에 따라 수사 기간을 충분히 보장해야 할 것”이라고 밝혔다.\\n\\n추 대변인은 또한 “특검은 시시때때로 청와대와 여당의 조직적인 저항으로 인해 수시로 난항을 겪었다”며 “청와대 압수수색 불발 사태에서도 드러나듯이 권력을 가진 수사 대상이 갖은 핑계를 대며 물리력을 동원해 봉쇄할 경우에 대한 법적 조치도 보완해야 한다”고 강조했다.\\n\\n아울러 “우병우와 세월호 7시간 등 특검이 남긴 미완의 과제는 이제 고스란히 검찰로 넘어갔다”며 “만일 특검 수사보다 조금이라도 미진하거나 은폐하려는 낌새가 보인다면 국민들이 결코 용납지 않으리라는 점을 검찰은 명심해야 한다”고 경고했다.\\n\\n오신환 바른정당 대변인 또한 논평을 내고 “도대체 지난 4년여간 대한민국이 어떻게 굴러온 것인지 개탄을 금할 수 없다”며 “국정농단 사태가 음모이자 거짓말이라고 주장해 온 박 대통령은 오늘 특검의 수사결과 발표 역시 음모이자 거짓말로 치부할 것인지 묻지 않을 수 없다”고 지적했다.\\n\\n오 대변인은 “특검의 최종 수사 결과 발표에도 불구하고 국정농단 사태는 미완의 상태”라며 “검찰은 오직 법과 원칙에 따라 남은 수사에 조직의 명운을 걸기 바란다”고 강조했다.\\n\\n이어 “행여 정치적 판단에 의해 수사방향을 수정하거나 우병우 사단에 의해 제대로 된 수사가 이뤄지지 못한다면 오히려 국민이 검찰을 심판할 것”이라며 “검찰 개혁의 목소리가 높다. 이제 국민의 눈이 검찰에 쏠려 있음을 잊지 말기 바란다”고 압박했다.\\n\\n반면 특검 연장 반대를 당론으로 채택한 ‘친박당’ 자유한국당은 “편향된 여론에 편승한 특검 수사결과 발표에 대해 우려를 표명한다”는 입장을 내놨다.\\n\\n김성원 대변인은 “언론을 통해 흘러나왔던 혐의 사실을 총망라한데 지나지 않으며, 전혀 새로울 게 없는 내용”이라며 “헌재의 탄핵심판 선고를 앞두고 발표한 것은 헌재 판결에 영향을 미치려는 것은 아닌지 의문”이라고 주장했다.\\n\\n박 대통령이 최씨와 공모해 삼성에 뇌물을 받았다는 혐의와 관련해선, 뇌물 수수·공여 혐의를 전면 부인한 박 대통령의 헌재 최후변론 의견서와 삼성 측의 입장을 언급하며 “재판과정에서 첨예한 논란이 예상되는 피의사실을 명확한 증거 제시 없이 공표했다”며 “혐의 입증보다는 언론플레이를 통한 여론형성에 더 힘썼다는 비판을 면키 어려울 것”이라고 말했다.\\n\\n수사시간 연장 등 특검의 제도개선을 요구한 것에 대해서도 “무소불위의 권력을 휘두르겠다는 초법적이고 특권적인 발상”이라고 했다.\\n\\n또한 “특검은 국민들의 지적을 겸허히 받아들이고 더 이상의 피의사실 공표는 없도록 해야 할 것”이라고도 했다.',\n",
       " 'title': '특검 최종 수사결과 발표 야 \"검찰, 남은 과제 철저히 수사해야\"'}"
      ]
     },
     "execution_count": 23,
     "metadata": {},
     "output_type": "execute_result"
    }
   ],
   "source": [
    "data[0]"
   ]
  },
  {
   "cell_type": "code",
   "execution_count": 3,
   "metadata": {
    "ExecuteTime": {
     "end_time": "2018-05-24T10:21:35.201959Z",
     "start_time": "2018-05-24T10:21:35.035613Z"
    }
   },
   "outputs": [],
   "source": [
    "titles = set()\n",
    "articleList = []\n",
    "articleNum = 0\n",
    "\n",
    "for article in data:\n",
    "    if article['title'] not in titles:\n",
    "        # 기사 중복되지 않는 것들만 처리\n",
    "        titles.add(article['title'])\n",
    "        articleList.append(article['text'])\n",
    "        articleNum += 1\n",
    "\n",
    "del data"
   ]
  },
  {
   "cell_type": "code",
   "execution_count": 4,
   "metadata": {
    "ExecuteTime": {
     "end_time": "2018-05-24T10:27:53.121704Z",
     "start_time": "2018-05-24T10:21:35.557323Z"
    }
   },
   "outputs": [
    {
     "name": "stdout",
     "output_type": "stream",
     "text": [
      "0\n",
      "1000\n",
      "2000\n",
      "3000\n",
      "4000\n",
      "5000\n",
      "6000\n",
      "7000\n",
      "8000\n",
      "9000\n"
     ]
    }
   ],
   "source": [
    "tags = set(['Noun', 'Verb', 'Adjective'])\n",
    "spamWords = set([\n",
    "    '하다', '되다', '이다', '전재', '배포', '무단', '기사', '금지', '사진', '보기', '뉴스', '있다',\n",
    "    '돼다', '앵커', '위해', '라며', '그렇다', '보다', '되어다', '기자', '하는', '이런', '그런', '하는', '이상'\n",
    "])\n",
    "\n",
    "word_count = Counter()\n",
    "\n",
    "for i, article in enumerate(articleList):\n",
    "    if i % 1000 == 0:\n",
    "        print(i)\n",
    "\n",
    "    words = []\n",
    "    pos = twitter.pos(article, norm=True, stem=True)\n",
    "    word_count.update([word for word, tag in pos if tag in tags and len(word) >1 and word not in spamWords])"
   ]
  },
  {
   "cell_type": "code",
   "execution_count": 17,
   "metadata": {
    "ExecuteTime": {
     "end_time": "2018-05-25T02:43:07.234632Z",
     "start_time": "2018-05-25T02:43:07.230411Z"
    }
   },
   "outputs": [
    {
     "name": "stdout",
     "output_type": "stream",
     "text": [
      "{'하하', '안녕'}\n"
     ]
    }
   ],
   "source": [
    "index2voca = set()\n",
    "index2voca.update(['안녕', '하하', '안녕'])\n",
    "print(index2voca)"
   ]
  },
  {
   "cell_type": "code",
   "execution_count": 6,
   "metadata": {
    "ExecuteTime": {
     "end_time": "2018-05-24T10:43:18.436361Z",
     "start_time": "2018-05-24T10:36:56.646795Z"
    }
   },
   "outputs": [
    {
     "name": "stdout",
     "output_type": "stream",
     "text": [
      "0\n",
      "1000\n",
      "2000\n",
      "3000\n",
      "4000\n",
      "5000\n",
      "6000\n",
      "7000\n",
      "8000\n",
      "9000\n",
      "11267\n",
      "8805\n"
     ]
    }
   ],
   "source": [
    "wordsList = []\n",
    "raw_text = []\n",
    "index2voca = set()\n",
    "for i, article in enumerate(articleList):\n",
    "    if i % 1000 == 0:\n",
    "        print(i)\n",
    "\n",
    "    words = []\n",
    "    pos = twitter.pos(article, norm=True, stem=True)\n",
    "    words = [word for word, tag in pos if word_count[word] >= 10]\n",
    "    if len(words) >= 10:\n",
    "        index2voca.update(words)\n",
    "        wordsList.append(words)\n",
    "        raw_text.append(article)\n",
    "\n",
    "index2voca = list(index2voca)\n",
    "voca2index = {w: i for i, w in enumerate(index2voca)}\n",
    "\n",
    "print(len(index2voca))\n",
    "print(len(wordsList))"
   ]
  },
  {
   "cell_type": "code",
   "execution_count": 9,
   "metadata": {
    "ExecuteTime": {
     "end_time": "2018-05-24T10:53:03.231595Z",
     "start_time": "2018-05-24T10:53:03.217924Z"
    }
   },
   "outputs": [
    {
     "data": {
      "text/plain": [
       "1011"
      ]
     },
     "execution_count": 9,
     "metadata": {},
     "output_type": "execute_result"
    }
   ],
   "source": [
    "voca2index['서울']"
   ]
  },
  {
   "cell_type": "code",
   "execution_count": 13,
   "metadata": {
    "ExecuteTime": {
     "end_time": "2018-05-24T10:54:35.153099Z",
     "start_time": "2018-05-24T10:53:31.065912Z"
    }
   },
   "outputs": [
    {
     "name": "stdout",
     "output_type": "stream",
     "text": [
      "(8805, 11267)\n"
     ]
    }
   ],
   "source": [
    "# term-document matrix를 sparse matrix로 생성\n",
    "tdm = dok_matrix((len(wordsList), len(index2voca)), dtype=np.float32)\n",
    "print(tdm.shape)\n",
    "\n",
    "for i, words in enumerate(wordsList):\n",
    "    for word in words:\n",
    "        tdm[i, voca2index[word]] += 1\n",
    "\n",
    "tdm = tdm.tocsr()\n",
    "# 각 document별로 l2-normalize\n",
    "tdm = normalize(tdm)"
   ]
  },
  {
   "cell_type": "code",
   "execution_count": 15,
   "metadata": {
    "ExecuteTime": {
     "end_time": "2018-05-24T11:04:55.709361Z",
     "start_time": "2018-05-24T11:04:54.145940Z"
    }
   },
   "outputs": [],
   "source": [
    "with open(\"data/preprocessed_data.pkl\", 'wb') as f:\n",
    "    pickle.dump({'index2voca': index2voca, 'voca2index': voca2index, 'wordsList': wordsList, 'tdm': tdm, 'raw_text': raw_text}, f)"
   ]
  },
  {
   "cell_type": "code",
   "execution_count": null,
   "metadata": {},
   "outputs": [],
   "source": []
  }
 ],
 "metadata": {
  "gist": {
   "data": {
    "description": "preprocessing.ipynb",
    "public": false
   },
   "id": ""
  },
  "kernelspec": {
   "display_name": "Python 3",
   "language": "python",
   "name": "python3"
  },
  "language_info": {
   "codemirror_mode": {
    "name": "ipython",
    "version": 3
   },
   "file_extension": ".py",
   "mimetype": "text/x-python",
   "name": "python",
   "nbconvert_exporter": "python",
   "pygments_lexer": "ipython3",
   "version": "3.6.5"
  },
  "varInspector": {
   "cols": {
    "lenName": 16,
    "lenType": 16,
    "lenVar": 40
   },
   "kernels_config": {
    "python": {
     "delete_cmd_postfix": "",
     "delete_cmd_prefix": "del ",
     "library": "var_list.py",
     "varRefreshCmd": "print(var_dic_list())"
    },
    "r": {
     "delete_cmd_postfix": ") ",
     "delete_cmd_prefix": "rm(",
     "library": "var_list.r",
     "varRefreshCmd": "cat(var_dic_list()) "
    }
   },
   "types_to_exclude": [
    "module",
    "function",
    "builtin_function_or_method",
    "instance",
    "_Feature"
   ],
   "window_display": false
  }
 },
 "nbformat": 4,
 "nbformat_minor": 2
}
